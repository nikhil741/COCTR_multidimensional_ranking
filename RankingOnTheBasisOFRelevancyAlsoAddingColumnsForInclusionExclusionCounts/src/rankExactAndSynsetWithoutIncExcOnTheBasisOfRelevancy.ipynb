{
 "cells": [
  {
   "cell_type": "code",
   "execution_count": 1,
   "metadata": {},
   "outputs": [],
   "source": [
    "import pandas as pd\n",
    "from os import listdir\n",
    "from os.path import join\n",
    "from statistics import mean\n",
    "from os import mkdir\n",
    "import math"
   ]
  },
  {
   "cell_type": "code",
   "execution_count": 2,
   "metadata": {},
   "outputs": [],
   "source": [
    "# input_path = \"../data/synonymsWordsFieldWiseFrequency\"\n",
    "# output_path = \"../data/synoymsWithoutIncExcRelevancySorted\"\n",
    "input_path = \"../data/queryWordsExactWordsFieldWiseFrequency\"\n",
    "output_path = \"../data/exactWordWithoutIncExcSortedOnTheBasisOfRelevancy\""
   ]
  },
  {
   "cell_type": "code",
   "execution_count": 3,
   "metadata": {},
   "outputs": [],
   "source": [
    "# mkdir(output_path)"
   ]
  },
  {
   "cell_type": "code",
   "execution_count": 4,
   "metadata": {},
   "outputs": [],
   "source": [
    "def dcg(rel_list):\n",
    "\trank = 1\n",
    "\tscore = 0\n",
    "\tfor item in rel_list:\n",
    "\t\tscore += (pow(2, item)-1)/(math.log(rank+1, 2))\n",
    "\t\trank += 1\n",
    "\treturn score"
   ]
  },
  {
   "cell_type": "code",
   "execution_count": 5,
   "metadata": {},
   "outputs": [
    {
     "data": {
      "text/plain": [
       "['hypertension safe treatments_page_rank.csv',\n",
       " 'constipation safe treatments_page_rank.csv',\n",
       " 'treating people already having hypertension_page_rank.csv',\n",
       " 'safe treatments for asthma_pageRank.csv',\n",
       " 'recommended anti-platelet doses for treating Coronary artery disease_page_rank_103.csv',\n",
       " 'dietary approaches for obesity treatment_page_rank.csv',\n",
       " 'haemorrhage cure_page_rank.csv',\n",
       " 'antiretroviral therapy first time_pageRank.csv',\n",
       " 'Dietary Therapy Epilepsies_page_rank.csv',\n",
       " 'low back pain therapy workout_pageRank.csv',\n",
       " 'Treating Anemia, Iron-Deficiency in CKD patients_page_rank_15.csv',\n",
       " 'postoperative delirium_pageRank.csv',\n",
       " 'out of hospital cardiac arrest_page_rank.csv',\n",
       " 'safe treatment for Alzheimer disease_page_rank.csv',\n",
       " 'managing constipation in children_pageRank.csv',\n",
       " 'Hypercholesterolemia safe treatments_page_rank.csv',\n",
       " 'serious sleep apnea_page_rank.csv',\n",
       " 'serious Rheumatoid arthritis_pageRank.csv',\n",
       " 'Outcomes of cerebrovascular accident_page_rank.csv',\n",
       " 'HIV infection Treatment naive_page_rank.csv',\n",
       " 'malnutrition in young children_page_rank.csv',\n",
       " 'HIV infection seronegativity_page_rank.csv',\n",
       " 'Nonvalvular atrial fibrillation_page_rank.csv',\n",
       " 'Early Parkinson disease treatment_page_rank.csv',\n",
       " 'already having Celiac Disease_page_rank.csv']"
      ]
     },
     "execution_count": 5,
     "metadata": {},
     "output_type": "execute_result"
    }
   ],
   "source": [
    "files = listdir(input_path)\n",
    "files"
   ]
  },
  {
   "cell_type": "code",
   "execution_count": 3,
   "metadata": {},
   "outputs": [],
   "source": [
    "def cal_precision(relevance):\n",
    "    count = 0\n",
    "    precisionList = []\n",
    "    \n",
    "    #P@5:\n",
    "    if len(relevance) >= 5:\n",
    "        for rel in relevance[:5]:\n",
    "            if rel:\n",
    "                count += 1\n",
    "        precisionList.append(round(count/5, 2))\n",
    "    else:\n",
    "        precisionList.append(\"-\")\n",
    "        \n",
    "    #P@10:\n",
    "    if len(relevance) >= 10:\n",
    "        for rel in relevance[5:10]:\n",
    "            if rel:\n",
    "                count += 1\n",
    "        precisionList.append(round(count/10, 2))\n",
    "    else:\n",
    "        precisionList.append(\"-\")\n",
    "    \n",
    "    #P@15:\n",
    "    if len(relevance) >= 15:\n",
    "        for rel in relevance[10:15]:\n",
    "            if rel:\n",
    "                count += 1\n",
    "        precisionList.append(round(count/15, 2))\n",
    "    else:\n",
    "        precisionList.append(\"-\")\n",
    "    \n",
    "    \n",
    "    #P@20:\n",
    "    if len(relevance) >= 20:\n",
    "        for rel in relevance[15:20]:\n",
    "            if rel:\n",
    "                count += 1\n",
    "        precisionList.append(round(count/20, 2))\n",
    "    else:\n",
    "        precisionList.append(\"-\")\n",
    "        \n",
    "    return precisionList"
   ]
  },
  {
   "cell_type": "code",
   "execution_count": 17,
   "metadata": {},
   "outputs": [
    {
     "name": "stdout",
     "output_type": "stream",
     "text": [
      "hypertension safe treatments_page_rank.csv\n",
      "Method-1 [0.6, 0.6, 0.53, 0.65] 0.88\n",
      "\n",
      "constipation safe treatments_page_rank.csv\n",
      "Method-1 [1.0, 0.8, '-', '-'] 0.97\n",
      "\n",
      "treating people already having hypertension_page_rank.csv\n",
      "Method-1 [0.0, 0.0, 0.07, 0.1] 0.65\n",
      "\n",
      "safe treatments for asthma_pageRank.csv\n",
      "Method-1 [0.4, 0.4, 0.33, 0.35] 0.8\n",
      "\n",
      "recommended anti-platelet doses for treating Coronary artery disease_page_rank_103.csv\n",
      "Method-1 [0.2, 0.3, 0.33, 0.25] 0.66\n",
      "\n",
      "dietary approaches for obesity treatment_page_rank.csv\n",
      "Method-1 [0.4, 0.3, 0.2, 0.35] 0.64\n",
      "\n",
      "haemorrhage cure_page_rank.csv\n",
      "Method-1 [0.2, 0.4, 0.4, 0.35] 0.77\n",
      "\n",
      "antiretroviral therapy first time_pageRank.csv\n",
      "Method-1 [1.0, 0.8, 0.73, 0.6] 0.95\n",
      "\n",
      "Dietary Therapy Epilepsies_page_rank.csv\n",
      "Method-1 [0.2, '-', '-', '-'] 0.5\n",
      "\n",
      "low back pain therapy workout_pageRank.csv\n",
      "Method-1 [1.0, 0.5, 0.33, 0.3] 0.96\n",
      "\n",
      "Treating Anemia, Iron-Deficiency in CKD patients_page_rank_15.csv\n",
      "Method-1 [0.2, 0.3, 0.2, '-'] 0.62\n",
      "\n",
      "postoperative delirium_pageRank.csv\n",
      "Method-1 [1.0, 1.0, 1.0, 0.9] 1.0\n",
      "\n",
      "out of hospital cardiac arrest_page_rank.csv\n",
      "Method-1 [0.6, 0.8, 0.8, 0.8] 0.88\n",
      "\n",
      "safe treatment for Alzheimer disease_page_rank.csv\n",
      "Method-1 [0.8, 0.6, 0.53, '-'] 0.92\n",
      "\n",
      "managing constipation in children_pageRank.csv\n",
      "Method-1 [0.6, 0.7, 0.6, 0.45] 0.84\n",
      "\n",
      "Hypercholesterolemia safe treatments_page_rank.csv\n",
      "Method-1 [0.0, 0.2, 0.4, '-'] 0.54\n",
      "\n",
      "serious sleep apnea_page_rank.csv\n",
      "Method-1 [0.6, 0.5, 0.4, 0.4] 0.72\n",
      "\n",
      "serious Rheumatoid arthritis_pageRank.csv\n",
      "Method-1 [1.0, 1.0, 1.0, 1.0] 0.96\n",
      "\n",
      "Outcomes of cerebrovascular accident_page_rank.csv\n",
      "Method-1 [0.4, 0.4, 0.27, 0.25] 0.66\n",
      "\n",
      "HIV infection Treatment naive_page_rank.csv\n",
      "Method-1 [0.6, 0.4, '-', '-'] 0.71\n",
      "\n",
      "malnutrition in young children_page_rank.csv\n",
      "Method-1 [1.0, 1.0, 0.93, 0.95] 0.99\n",
      "\n",
      "HIV infection seronegativity_page_rank.csv\n",
      "Method-1 [0.6, 0.3, 0.2, 0.25] 0.8\n",
      "\n",
      "Nonvalvular atrial fibrillation_page_rank.csv\n",
      "Method-1 [0.2, 0.1, 0.13, 0.15] 0.52\n",
      "\n",
      "Early Parkinson disease treatment_page_rank.csv\n",
      "Method-1 [0.8, 0.4, 0.27, 0.2] 0.98\n",
      "\n",
      "already having Celiac Disease_page_rank.csv\n",
      "Method-1 [0.6, 0.7, 0.67, '-'] 0.91\n",
      "\n"
     ]
    }
   ],
   "source": [
    "P_5 = []\n",
    "P_10 = []\n",
    "P_15 = []\n",
    "P_20 = []\n",
    "for file in files:\n",
    "    print(file)\n",
    "    df = pd.read_csv(join(input_path, file))\n",
    "#     df.sor_\n",
    "    df = df.sort_values(by=['brief_summary_matched_count', 'official_title_matched_count', 'brief_title_matched_count', 'briefTitleAndSummaryCombinedPageRankScore'], ascending=[False, False, False, False])\n",
    "    relevantListAnnotated1 = df.relevance.values\n",
    "    \n",
    "    method_1_precision_list = cal_precision(relevantListAnnotated1)\n",
    "    \n",
    "    P_5.append(method_1_precision_list[0])\n",
    "    P_10.append(method_1_precision_list[1])\n",
    "    P_15.append(method_1_precision_list[2])\n",
    "    P_20.append(method_1_precision_list[3])\n",
    "    print(\"Method-1\", method_1_precision_list, round(dcg(relevantListAnnotated1)/dcg(sorted(relevantListAnnotated1, reverse=True)), 2))\n",
    "    print()\n",
    "    df = df.reset_index()\n",
    "    df.to_csv(join(output_path, file), index=True)"
   ]
  },
  {
   "cell_type": "markdown",
   "metadata": {},
   "source": [
    "### Calculate Precision values"
   ]
  },
  {
   "cell_type": "code",
   "execution_count": 7,
   "metadata": {},
   "outputs": [],
   "source": [
    "P_5 = list(filter(lambda a: a != '-', P_5))\n",
    "P_10 = list(filter(lambda a: a != '-', P_10))\n",
    "P_15 = list(filter(lambda a: a != '-', P_15))\n",
    "P_20 = list(filter(lambda a: a != '-', P_20))"
   ]
  },
  {
   "cell_type": "code",
   "execution_count": 8,
   "metadata": {},
   "outputs": [
    {
     "name": "stdout",
     "output_type": "stream",
     "text": [
      "0.56 0.52 0.47 0.46\n"
     ]
    }
   ],
   "source": [
    "print(round(mean(P_5), 2), round(mean(P_10), 2), round(mean(P_15), 2), round(mean(P_20), 2))"
   ]
  },
  {
   "cell_type": "code",
   "execution_count": null,
   "metadata": {},
   "outputs": [],
   "source": []
  }
 ],
 "metadata": {
  "kernelspec": {
   "display_name": "Python 3",
   "language": "python",
   "name": "python3"
  },
  "language_info": {
   "codemirror_mode": {
    "name": "ipython",
    "version": 3
   },
   "file_extension": ".py",
   "mimetype": "text/x-python",
   "name": "python",
   "nbconvert_exporter": "python",
   "pygments_lexer": "ipython3",
   "version": "3.7.1"
  }
 },
 "nbformat": 4,
 "nbformat_minor": 2
}
