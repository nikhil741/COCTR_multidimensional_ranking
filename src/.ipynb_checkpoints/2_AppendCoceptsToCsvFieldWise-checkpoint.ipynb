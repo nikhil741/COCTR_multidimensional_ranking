{
 "cells": [
  {
   "cell_type": "code",
   "execution_count": 3,
   "metadata": {},
   "outputs": [],
   "source": [
    "from os import listdir\n",
    "from os.path import join\n",
    "import pickle\n",
    "import pandas as pd\n",
    "from os import mkdir\n",
    "from os import listdir"
   ]
  },
  {
   "cell_type": "code",
   "execution_count": 4,
   "metadata": {},
   "outputs": [],
   "source": [
    "basePath = \"../output/clinicalTrialsForEachDiseaseClasses\"\n",
    "files = listdir(basePath)"
   ]
  },
  {
   "cell_type": "code",
   "execution_count": 5,
   "metadata": {},
   "outputs": [],
   "source": [
    "output_path = \"../output/conceptsAppendedToAllClasses\""
   ]
  },
  {
   "cell_type": "code",
   "execution_count": 6,
   "metadata": {},
   "outputs": [],
   "source": [
    "conceptsFromQuickUmlsBasePath = \"../conceptsFromQuickUmls\""
   ]
  },
  {
   "cell_type": "code",
   "execution_count": 7,
   "metadata": {},
   "outputs": [
    {
     "name": "stdout",
     "output_type": "stream",
     "text": [
      "6_Immune System Diseases_5016.csv\n",
      "3_Cardiovascular Diseases_7293.csv\n",
      "2_Neoplasms_7398.csv\n",
      "4_Nervous System Diseases_6172.csv\n",
      "1_Pathological Conditions, Signs and Symptoms_12826.csv\n",
      "5_Nutritional and Metabolic Diseases_5240.csv\n"
     ]
    }
   ],
   "source": [
    "for file in files:\n",
    "    print(file)\n",
    "    \n",
    "    brief_summary_concepts_list = []\n",
    "    brief_title_concepts_list = []\n",
    "    conditions_list_concepts_list = []\n",
    "    eligibilities_concepts_list = []\n",
    "    keywords_list_concepts_list = []\n",
    "    official_title_concepts_list = []\n",
    "    \n",
    "    file.split(\".\"[0])\n",
    "    basePathForPickleFiles = join(conceptsFromQuickUmlsBasePath, file.split(\".\")[0])\n",
    "    \n",
    "    brief_summaryDict = pickle.load(open(join(basePathForPickleFiles, \"brief_summary.p\"), \"rb\"))\n",
    "    brief_titleDict = pickle.load(open(join(basePathForPickleFiles, \"brief_title.p\"), \"rb\"))\n",
    "    conditions_listDict = pickle.load(open(join(basePathForPickleFiles, \"conditions_list.p\"), \"rb\"))\n",
    "    eligibilitiesDict = pickle.load(open(join(basePathForPickleFiles, \"eligibilities.p\"), \"rb\"))\n",
    "    keywords_list_all_trialsDict = pickle.load(open(join(basePathForPickleFiles, \"keywords_list_all_trials.p\"), \"rb\"))\n",
    "    official_titleDict = pickle.load(open(join(basePathForPickleFiles, \"official_title.p\"), \"rb\"))\n",
    "    \n",
    "    csvFilePath = join(basePath, file)\n",
    "    df = pd.read_csv(csvFilePath)\n",
    "    \n",
    "    for nct in df['nct_id'].values:\n",
    "        brief_summary_concepts_list.append(\";\".join(brief_summaryDict[nct]))\n",
    "        brief_title_concepts_list.append(\";\".join(brief_titleDict[nct]))\n",
    "        conditions_list_concepts_list.append(\";\".join(conditions_listDict[nct]))\n",
    "        eligibilities_concepts_list.append(\";\".join(eligibilitiesDict[nct]))\n",
    "        keywords_list_concepts_list.append(\";\".join(keywords_list_all_trialsDict[nct]))\n",
    "        official_title_concepts_list.append(\";\".join(official_titleDict[nct]))\n",
    "    \n",
    "    df['brief_title_concepts_list'] = brief_title_concepts_list\n",
    "    df['official_title_concepts_list'] = official_title_concepts_list\n",
    "    df['brief_summary_concepts_list'] = brief_summary_concepts_list\n",
    "    df['conditions_list_concepts_list'] = conditions_list_concepts_list\n",
    "    df['eligibilities_concepts_list'] = eligibilities_concepts_list\n",
    "    df['keywords_list_concepts_list'] = keywords_list_concepts_list\n",
    "    df.to_csv(join(output_path, file), index=False)\n",
    "#     print(df.columns)"
   ]
  },
  {
   "cell_type": "code",
   "execution_count": null,
   "metadata": {},
   "outputs": [],
   "source": []
  }
 ],
 "metadata": {
  "kernelspec": {
   "display_name": "Python 3",
   "language": "python",
   "name": "python3"
  },
  "language_info": {
   "codemirror_mode": {
    "name": "ipython",
    "version": 3
   },
   "file_extension": ".py",
   "mimetype": "text/x-python",
   "name": "python",
   "nbconvert_exporter": "python",
   "pygments_lexer": "ipython3",
   "version": "3.6.6"
  }
 },
 "nbformat": 4,
 "nbformat_minor": 2
}
