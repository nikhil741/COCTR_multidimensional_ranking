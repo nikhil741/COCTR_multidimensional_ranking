{
 "cells": [
  {
   "cell_type": "code",
   "execution_count": 6,
   "metadata": {},
   "outputs": [],
   "source": [
    "import pandas as pd\n",
    "from collections import defaultdict\n",
    "from quickUmls.client import get_quickumls_client\n",
    "import pickle\n",
    "from os import mkdir\n",
    "from os.path import join\n",
    "from os import listdir\n",
    "import numpy as np\n",
    "import xlwt \n",
    "from xlwt import Workbook"
   ]
  },
  {
   "cell_type": "code",
   "execution_count": 7,
   "metadata": {},
   "outputs": [],
   "source": [
    "csvFilesPath = \"../output/conceptsAppendedToAllClasses\""
   ]
  },
  {
   "cell_type": "code",
   "execution_count": 8,
   "metadata": {},
   "outputs": [
    {
     "data": {
      "text/plain": [
       "['1_Pathological Conditions, Signs and Symptoms_12826.csv',\n",
       " '2_Neoplasms_7398.csv',\n",
       " '3_Cardiovascular Diseases_7293.csv',\n",
       " '4_Nervous System Diseases_6172.csv',\n",
       " '5_Nutritional and Metabolic Diseases_5240.csv']"
      ]
     },
     "execution_count": 8,
     "metadata": {},
     "output_type": "execute_result"
    }
   ],
   "source": [
    "csvFiles = sorted(listdir(csvFilesPath))\n",
    "csvFiles"
   ]
  },
  {
   "cell_type": "code",
   "execution_count": 9,
   "metadata": {},
   "outputs": [],
   "source": [
    "queryPath = \"../queries/final_queries\""
   ]
  },
  {
   "cell_type": "code",
   "execution_count": 10,
   "metadata": {},
   "outputs": [
    {
     "data": {
      "text/plain": [
       "['1_Pathological Conditions, Signs and Symptoms_12826_query.txt',\n",
       " '2_Neoplasms_7398_query.txt',\n",
       " '3_Cardiovascular Diseases_7293_query.txt',\n",
       " '4_Nervous System Diseases_6172_query.txt',\n",
       " '5_Nutritional and Metabolic Diseases_5240_query.txt']"
      ]
     },
     "execution_count": 10,
     "metadata": {},
     "output_type": "execute_result"
    }
   ],
   "source": [
    "queryFiles = sorted(listdir(queryPath))\n",
    "queryFiles"
   ]
  },
  {
   "cell_type": "code",
   "execution_count": 11,
   "metadata": {},
   "outputs": [],
   "source": [
    "def retrieveTrialsGivenQuery(df, file, queryList):\n",
    "\n",
    "    matcher = get_quickumls_client()\n",
    "\n",
    "    queryCount = 1\n",
    "    for query in queryList:\n",
    "        \n",
    "        listOfRows = []\n",
    "        \n",
    "        print(query)\n",
    "        concepts = matcher.match(query, best_match=True, ignore_syntax=False)\n",
    "        print(concepts)\n",
    "        conceptOfQuery = [elem[0][u'cui'] for elem in concepts][0]\n",
    "        print(\"Concept OF Query:\", conceptOfQuery)\n",
    "\n",
    "        row = 0\n",
    "        for trial in df['brief_title_concepts_list'].values:\n",
    "            row += 1\n",
    "            try:\n",
    "                if conceptOfQuery in trial:\n",
    "                    listOfRows.append(row-1)\n",
    "            except:\n",
    "                pass\n",
    "        \n",
    "        \n",
    "        new_df = df.ix[listOfRows]\n",
    "        new_df.to_csv(\"../output/ourMethodResultsAllFieldsAppended/\" + file.split(\".\")[0] + \"_\" + str(queryCount) + \"_queryResultsOurMethod\" + \".csv\", index=False)"
   ]
  },
  {
   "cell_type": "code",
   "execution_count": 12,
   "metadata": {},
   "outputs": [
    {
     "name": "stdout",
     "output_type": "stream",
     "text": [
      "1_Pathological Conditions, Signs and Symptoms_12826.csv 1_Pathological Conditions, Signs and Symptoms_12826_query.txt\n",
      "['Delirium\\n', 'Irritable Bowel Syndrome\\n', 'Osteoarthritis\\n', 'Low Back Pain\\n', 'Stones']\n",
      "Delirium\n",
      "[[{'start': 0, 'end': 8, 'ngram': 'Delirium', 'term': 'Delirium', 'cui': 'C0011206', 'similarity': 1.0, 'semtypes': {'T048'}, 'preferred': 1}, {'start': 0, 'end': 8, 'ngram': 'Delirium', 'term': 'Delirium', 'cui': 'C4552941', 'similarity': 1.0, 'semtypes': {'T033'}, 'preferred': 1}, {'start': 0, 'end': 8, 'ngram': 'Delirium', 'term': 'delirium', 'cui': 'C0011206', 'similarity': 0.7142857142857143, 'semtypes': {'T048'}, 'preferred': 1}]]\n",
      "Concept OF Query: C0011206\n"
     ]
    },
    {
     "ename": "NameError",
     "evalue": "name 'wb' is not defined",
     "output_type": "error",
     "traceback": [
      "\u001b[0;31m---------------------------------------------------------------------------\u001b[0m",
      "\u001b[0;31mNameError\u001b[0m                                 Traceback (most recent call last)",
      "\u001b[0;32m<ipython-input-12-752e95c8c77d>\u001b[0m in \u001b[0;36m<module>\u001b[0;34m\u001b[0m\n\u001b[1;32m     13\u001b[0m     \u001b[0;32mfor\u001b[0m \u001b[0mline\u001b[0m \u001b[0;32min\u001b[0m \u001b[0mlines\u001b[0m\u001b[0;34m:\u001b[0m\u001b[0;34m\u001b[0m\u001b[0;34m\u001b[0m\u001b[0m\n\u001b[1;32m     14\u001b[0m         \u001b[0mqueryList\u001b[0m\u001b[0;34m.\u001b[0m\u001b[0mappend\u001b[0m\u001b[0;34m(\u001b[0m\u001b[0mline\u001b[0m\u001b[0;34m.\u001b[0m\u001b[0mstrip\u001b[0m\u001b[0;34m(\u001b[0m\u001b[0;34m)\u001b[0m\u001b[0;34m)\u001b[0m\u001b[0;34m\u001b[0m\u001b[0;34m\u001b[0m\u001b[0m\n\u001b[0;32m---> 15\u001b[0;31m     \u001b[0mretrieveTrialsGivenQuery\u001b[0m\u001b[0;34m(\u001b[0m\u001b[0mdf\u001b[0m\u001b[0;34m,\u001b[0m \u001b[0mcsvFiles\u001b[0m\u001b[0;34m[\u001b[0m\u001b[0mkey\u001b[0m\u001b[0;34m]\u001b[0m\u001b[0;34m,\u001b[0m \u001b[0mqueryList\u001b[0m\u001b[0;34m)\u001b[0m\u001b[0;34m\u001b[0m\u001b[0;34m\u001b[0m\u001b[0m\n\u001b[0m",
      "\u001b[0;32m<ipython-input-11-e2cde1dc84d5>\u001b[0m in \u001b[0;36mretrieveTrialsGivenQuery\u001b[0;34m(df, file, queryList)\u001b[0m\n\u001b[1;32m     15\u001b[0m \u001b[0;34m\u001b[0m\u001b[0m\n\u001b[1;32m     16\u001b[0m         \u001b[0;31m# add_sheet is used to create sheet.\u001b[0m\u001b[0;34m\u001b[0m\u001b[0;34m\u001b[0m\u001b[0;34m\u001b[0m\u001b[0m\n\u001b[0;32m---> 17\u001b[0;31m         \u001b[0msheet1\u001b[0m \u001b[0;34m=\u001b[0m \u001b[0mwb\u001b[0m\u001b[0;34m.\u001b[0m\u001b[0madd_sheet\u001b[0m\u001b[0;34m(\u001b[0m\u001b[0mstr\u001b[0m\u001b[0;34m(\u001b[0m\u001b[0mqueryCount\u001b[0m\u001b[0;34m)\u001b[0m \u001b[0;34m+\u001b[0m \u001b[0;34m\"_\"\u001b[0m \u001b[0;34m+\u001b[0m \u001b[0mquery\u001b[0m\u001b[0;34m)\u001b[0m\u001b[0;34m\u001b[0m\u001b[0;34m\u001b[0m\u001b[0m\n\u001b[0m\u001b[1;32m     18\u001b[0m \u001b[0;34m\u001b[0m\u001b[0m\n\u001b[1;32m     19\u001b[0m         \u001b[0mrow\u001b[0m \u001b[0;34m=\u001b[0m \u001b[0;36m0\u001b[0m\u001b[0;34m\u001b[0m\u001b[0;34m\u001b[0m\u001b[0m\n",
      "\u001b[0;31mNameError\u001b[0m: name 'wb' is not defined"
     ]
    }
   ],
   "source": [
    "for key in range(5):\n",
    "    \n",
    "    print(csvFiles[key], queryFiles[key])\n",
    "    \n",
    "    df = pd.read_csv(join(csvFilesPath, csvFiles[key]))\n",
    "    df.isna().sum()\n",
    "    \n",
    "    fp = open(join(queryPath, queryFiles[key]), \"r\")\n",
    "    lines = fp.readlines()[1:]\n",
    "    print(lines)\n",
    "    \n",
    "    queryList = []\n",
    "    for line in lines:\n",
    "        queryList.append(line.strip())\n",
    "    retrieveTrialsGivenQuery(df, csvFiles[key], queryList) "
   ]
  },
  {
   "cell_type": "code",
   "execution_count": null,
   "metadata": {},
   "outputs": [],
   "source": []
  }
 ],
 "metadata": {
  "kernelspec": {
   "display_name": "Python 3",
   "language": "python",
   "name": "python3"
  },
  "language_info": {
   "codemirror_mode": {
    "name": "ipython",
    "version": 3
   },
   "file_extension": ".py",
   "mimetype": "text/x-python",
   "name": "python",
   "nbconvert_exporter": "python",
   "pygments_lexer": "ipython3",
   "version": "3.6.6"
  }
 },
 "nbformat": 4,
 "nbformat_minor": 2
}
