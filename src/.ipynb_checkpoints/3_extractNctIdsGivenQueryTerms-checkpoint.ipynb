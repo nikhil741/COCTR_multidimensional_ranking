{
 "cells": [
  {
   "cell_type": "code",
   "execution_count": 1,
   "metadata": {},
   "outputs": [],
   "source": [
    "import pandas as pd\n",
    "from collections import defaultdict\n",
    "from quickUmls.client import get_quickumls_client\n",
    "import pickle\n",
    "from os import mkdir\n",
    "from os.path import join\n",
    "from os import listdir\n",
    "import numpy as np\n",
    "import xlwt \n",
    "from xlwt import Workbook"
   ]
  },
  {
   "cell_type": "code",
   "execution_count": 2,
   "metadata": {},
   "outputs": [],
   "source": [
    "csvFilesPath = \"../deal_with_single_file/6_imu/csv_file_dataset\"\n",
    "outputPath = \"../deal_with_single_file/6_imu/3_output\""
   ]
  },
  {
   "cell_type": "code",
   "execution_count": 3,
   "metadata": {},
   "outputs": [
    {
     "data": {
      "text/plain": [
       "['6_Immune System Diseases_5016.csv']"
      ]
     },
     "execution_count": 3,
     "metadata": {},
     "output_type": "execute_result"
    }
   ],
   "source": [
    "csvFiles = sorted(listdir(csvFilesPath))\n",
    "csvFiles"
   ]
  },
  {
   "cell_type": "code",
   "execution_count": 4,
   "metadata": {},
   "outputs": [],
   "source": [
    "queryPath = \"../deal_with_single_file/6_imu/query\""
   ]
  },
  {
   "cell_type": "code",
   "execution_count": 5,
   "metadata": {},
   "outputs": [
    {
     "data": {
      "text/plain": [
       "['query.txt']"
      ]
     },
     "execution_count": 5,
     "metadata": {},
     "output_type": "execute_result"
    }
   ],
   "source": [
    "queryFiles = sorted(listdir(queryPath))\n",
    "queryFiles"
   ]
  },
  {
   "cell_type": "code",
   "execution_count": 6,
   "metadata": {},
   "outputs": [],
   "source": [
    "def retrieveTrialsGivenQuery(df, file, queryList):\n",
    "    # Workbook is created \n",
    "    wb = Workbook() \n",
    "    \n",
    "    columns_ = [\"nct_id\", \"brief_title\", \"pubmed_id\", \"breif_title_concepts\", \"brief_summary_concepts\"]\n",
    "\n",
    "    matcher = get_quickumls_client()\n",
    "\n",
    "    queryCount = 1\n",
    "    for query in queryList:\n",
    "        \n",
    "        listOfRows = []\n",
    "        \n",
    "        print(query)\n",
    "        concepts = matcher.match(query, best_match=True, ignore_syntax=False)\n",
    "        print(concepts)\n",
    "        conceptOfQuery = [elem[0][u'cui'] for elem in concepts][0]\n",
    "        print(\"Concept OF Query:\", conceptOfQuery)\n",
    "\n",
    "        # add_sheet is used to create sheet. \n",
    "        sheet1 = wb.add_sheet(str(queryCount) + \"_\" + query) \n",
    "\n",
    "        row = 0\n",
    "        excelSheetRowNumber = 0\n",
    "        for trial in df['brief_title_concepts_list'].values:\n",
    "            row += 1\n",
    "            singleRow = []\n",
    "            try:\n",
    "                if conceptOfQuery in trial:\n",
    "    #                 print(df.values[row-1][0], df.values[row-1][1])\n",
    "                    sheet1.write(excelSheetRowNumber, 0, df.values[row-1][0])\n",
    "                    singleRow.append(df.values[row-1][0])\n",
    "            \n",
    "                    sheet1.write(excelSheetRowNumber, 1, df.values[row-1][1])\n",
    "                    singleRow.append(df.values[row-1][1])\n",
    "                    \n",
    "                    sheet1.write(excelSheetRowNumber, 2, df.values[row-1][7])\n",
    "                    singleRow.append(df.values[row-1][7])\n",
    "                    \n",
    "                    sheet1.write(excelSheetRowNumber, 3, df.values[row-1][9])\n",
    "                    singleRow.append(df.values[row-1][9])\n",
    "                    \n",
    "                    sheet1.write(excelSheetRowNumber, 4, df.values[row-1][11])\n",
    "                    singleRow.append(df.values[row-1][11])\n",
    "                    \n",
    "                    listOfRows.append(singleRow)\n",
    "                    \n",
    "                    excelSheetRowNumber += 1\n",
    "            except:\n",
    "                pass\n",
    "        \n",
    "        \n",
    "        new_df = pd.DataFrame(columns=columns_, data=listOfRows)\n",
    "        new_df.to_csv(join(outputPath,file.split(\".\")[0] + \"_\" + str(queryCount) + \"_queryResultsOurMethod\" + \".csv\"), index=False)\n",
    "\n",
    "        print(excelSheetRowNumber)\n",
    "        print(\"\\n\")\n",
    "        queryCount += 1\n",
    "#     wb.save(join(outputPath, file.split(\".\")[0] + \".xls\"))"
   ]
  },
  {
   "cell_type": "code",
   "execution_count": 7,
   "metadata": {},
   "outputs": [
    {
     "name": "stdout",
     "output_type": "stream",
     "text": [
      "6_Immune System Diseases_5016.csv query.txt\n",
      "['Allergic Rhinitis']\n",
      "Allergic Rhinitis\n",
      "[[{'start': 0, 'end': 17, 'ngram': 'Allergic Rhinitis', 'term': 'Allergic Rhinitis', 'cui': 'C2607914', 'similarity': 1.0, 'semtypes': {'T047'}, 'preferred': 1}, {'start': 0, 'end': 17, 'ngram': 'Allergic Rhinitis', 'term': 'Non-Allergic Rhinitis', 'cui': 'C0009443', 'similarity': 0.7894736842105263, 'semtypes': {'T047'}, 'preferred': 1}]]\n",
      "Concept OF Query: C2607914\n",
      "49\n",
      "\n",
      "\n"
     ]
    },
    {
     "ename": "IndexError",
     "evalue": "list index out of range",
     "output_type": "error",
     "traceback": [
      "\u001b[0;31m---------------------------------------------------------------------------\u001b[0m",
      "\u001b[0;31mIndexError\u001b[0m                                Traceback (most recent call last)",
      "\u001b[0;32m<ipython-input-7-752e95c8c77d>\u001b[0m in \u001b[0;36m<module>\u001b[0;34m\u001b[0m\n\u001b[1;32m      1\u001b[0m \u001b[0;32mfor\u001b[0m \u001b[0mkey\u001b[0m \u001b[0;32min\u001b[0m \u001b[0mrange\u001b[0m\u001b[0;34m(\u001b[0m\u001b[0;36m5\u001b[0m\u001b[0;34m)\u001b[0m\u001b[0;34m:\u001b[0m\u001b[0;34m\u001b[0m\u001b[0;34m\u001b[0m\u001b[0m\n\u001b[1;32m      2\u001b[0m \u001b[0;34m\u001b[0m\u001b[0m\n\u001b[0;32m----> 3\u001b[0;31m     \u001b[0mprint\u001b[0m\u001b[0;34m(\u001b[0m\u001b[0mcsvFiles\u001b[0m\u001b[0;34m[\u001b[0m\u001b[0mkey\u001b[0m\u001b[0;34m]\u001b[0m\u001b[0;34m,\u001b[0m \u001b[0mqueryFiles\u001b[0m\u001b[0;34m[\u001b[0m\u001b[0mkey\u001b[0m\u001b[0;34m]\u001b[0m\u001b[0;34m)\u001b[0m\u001b[0;34m\u001b[0m\u001b[0;34m\u001b[0m\u001b[0m\n\u001b[0m\u001b[1;32m      4\u001b[0m \u001b[0;34m\u001b[0m\u001b[0m\n\u001b[1;32m      5\u001b[0m     \u001b[0mdf\u001b[0m \u001b[0;34m=\u001b[0m \u001b[0mpd\u001b[0m\u001b[0;34m.\u001b[0m\u001b[0mread_csv\u001b[0m\u001b[0;34m(\u001b[0m\u001b[0mjoin\u001b[0m\u001b[0;34m(\u001b[0m\u001b[0mcsvFilesPath\u001b[0m\u001b[0;34m,\u001b[0m \u001b[0mcsvFiles\u001b[0m\u001b[0;34m[\u001b[0m\u001b[0mkey\u001b[0m\u001b[0;34m]\u001b[0m\u001b[0;34m)\u001b[0m\u001b[0;34m)\u001b[0m\u001b[0;34m\u001b[0m\u001b[0;34m\u001b[0m\u001b[0m\n",
      "\u001b[0;31mIndexError\u001b[0m: list index out of range"
     ]
    }
   ],
   "source": [
    "for key in range(5):\n",
    "    \n",
    "    print(csvFiles[key], queryFiles[key])\n",
    "    \n",
    "    df = pd.read_csv(join(csvFilesPath, csvFiles[key]))\n",
    "    df.isna().sum()\n",
    "    \n",
    "    fp = open(join(queryPath, queryFiles[key]), \"r\")\n",
    "    lines = fp.readlines()[1:]\n",
    "    print(lines)\n",
    "    \n",
    "    queryList = []\n",
    "    for line in lines:\n",
    "        queryList.append(line.strip())\n",
    "    retrieveTrialsGivenQuery(df, csvFiles[key], queryList) "
   ]
  },
  {
   "cell_type": "code",
   "execution_count": null,
   "metadata": {},
   "outputs": [],
   "source": []
  }
 ],
 "metadata": {
  "kernelspec": {
   "display_name": "Python 3",
   "language": "python",
   "name": "python3"
  },
  "language_info": {
   "codemirror_mode": {
    "name": "ipython",
    "version": 3
   },
   "file_extension": ".py",
   "mimetype": "text/x-python",
   "name": "python",
   "nbconvert_exporter": "python",
   "pygments_lexer": "ipython3",
   "version": "3.6.6"
  }
 },
 "nbformat": 4,
 "nbformat_minor": 2
}
