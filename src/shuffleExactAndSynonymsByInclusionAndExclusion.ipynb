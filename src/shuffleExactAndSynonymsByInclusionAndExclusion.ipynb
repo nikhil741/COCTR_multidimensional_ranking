{
 "cells": [
  {
   "cell_type": "code",
   "execution_count": 1,
   "metadata": {},
   "outputs": [],
   "source": [
    "import pandas as pd\n",
    "from os.path import join\n",
    "from os import listdir\n",
    "from os import mkdir\n",
    "import random\n",
    "SEED = 449"
   ]
  },
  {
   "cell_type": "code",
   "execution_count": 2,
   "metadata": {},
   "outputs": [],
   "source": [
    "random.seed(SEED)"
   ]
  },
  {
   "cell_type": "code",
   "execution_count": 3,
   "metadata": {},
   "outputs": [],
   "source": [
    "input_path_1 = \"../data/queryWordsExactWordsFieldWiseFrequency\"\n",
    "output_path_1 = \"../data/exact_Inclusion_Exclusion_Final\"\n",
    "input_path_2 = \"../data/synonymsWordsFieldWiseFrequency\"\n",
    "output_path_2 = \"../data/synset_Inclusion_Exclusion_Final\"\n",
    "input_path = input_path_2\n",
    "output_path = output_path_2"
   ]
  },
  {
   "cell_type": "code",
   "execution_count": 4,
   "metadata": {},
   "outputs": [],
   "source": [
    "# mkdir(output_path_1)\n",
    "# mkdir(output_path_2)"
   ]
  },
  {
   "cell_type": "code",
   "execution_count": 5,
   "metadata": {},
   "outputs": [
    {
     "data": {
      "text/plain": [
       "['hypertension safe treatments_page_rank.csv',\n",
       " 'constipation safe treatments_page_rank.csv',\n",
       " 'treating people already having hypertension_page_rank.csv',\n",
       " 'safe treatments for asthma_pageRank.csv',\n",
       " 'recommended anti-platelet doses for treating Coronary artery disease_page_rank_103.csv',\n",
       " 'dietary approaches for obesity treatment_page_rank.csv',\n",
       " 'haemorrhage cure_page_rank.csv',\n",
       " 'antiretroviral therapy first time_pageRank.csv',\n",
       " 'Dietary Therapy Epilepsies_page_rank.csv',\n",
       " 'low back pain therapy workout_pageRank.csv',\n",
       " 'Treating Anemia, Iron-Deficiency in CKD patients_page_rank_15.csv',\n",
       " 'postoperative delirium_pageRank.csv',\n",
       " 'out of hospital cardiac arrest_page_rank.csv',\n",
       " 'safe treatment for Alzheimer disease_page_rank.csv',\n",
       " 'managing constipation in children_pageRank.csv',\n",
       " 'Hypercholesterolemia safe treatments_page_rank.csv',\n",
       " 'serious sleep apnea_page_rank.csv',\n",
       " 'serious Rheumatoid arthritis_pageRank.csv',\n",
       " 'Outcomes of cerebrovascular accident_page_rank.csv',\n",
       " 'HIV infection Treatment naive_page_rank.csv',\n",
       " 'malnutrition in young children_page_rank.csv',\n",
       " 'HIV infection seronegativity_page_rank.csv',\n",
       " 'Nonvalvular atrial fibrillation_page_rank.csv',\n",
       " 'Early Parkinson disease treatment_page_rank.csv',\n",
       " 'already having Celiac Disease_page_rank.csv']"
      ]
     },
     "execution_count": 5,
     "metadata": {},
     "output_type": "execute_result"
    }
   ],
   "source": [
    "files = listdir(input_path)\n",
    "files"
   ]
  },
  {
   "cell_type": "code",
   "execution_count": 6,
   "metadata": {},
   "outputs": [],
   "source": [
    "def shuffleRowsOnTheBasisOfIncNegAndExcPos(df):\n",
    "    inc_neg_exc_pos_sum_list = []\n",
    "    for incNeg_excPos_tup in zip(df.inclusion_neg, df.exclusion_pos):\n",
    "        incNeg = incNeg_excPos_tup[0]\n",
    "        excPos = incNeg_excPos_tup[1]\n",
    "        inc_neg_exc_pos_sum_list.append((incNeg+excPos))\n",
    "#         print(incNeg, excPos)\n",
    "    \n",
    "    df['incNeg_excPos_sum'] = inc_neg_exc_pos_sum_list\n",
    "    \n",
    "#     print(df.columns)\n",
    "    \n",
    "    df = df.sort_values(by=['incNeg_excPos_sum'])\n",
    "    \n",
    "    zeroSumIndexList = []\n",
    "    nonZeroSumIndexList = []\n",
    "    \n",
    "    rowNumber = 0\n",
    "    for val in df.incNeg_excPos_sum:\n",
    "        if val == 0:\n",
    "            zeroSumIndexList.append(rowNumber)\n",
    "        else:\n",
    "            nonZeroSumIndexList.append(rowNumber)\n",
    "        rowNumber += 1\n",
    "#     print(zeroSumIndexList)\n",
    "#     print(nonZeroSumIndexList)\n",
    "    random.shuffle(nonZeroSumIndexList)\n",
    "    print(\"Shuffled:\", nonZeroSumIndexList)\n",
    "    df1 = df.iloc[zeroSumIndexList, :]\n",
    "    df2 = df.iloc[nonZeroSumIndexList, :]\n",
    "    \n",
    "    df1 = df1.sort_values(by=['brief_summary_matched_count', 'official_title_matched_count', 'brief_title_matched_count', 'briefTitleAndSummaryCombinedPageRankScore'], ascending=[False, False, False, False])\n",
    "    \n",
    "    df = pd.concat([df1, df2])\n",
    "    return df"
   ]
  },
  {
   "cell_type": "code",
   "execution_count": 7,
   "metadata": {},
   "outputs": [
    {
     "name": "stdout",
     "output_type": "stream",
     "text": [
      "hypertension safe treatments_page_rank.csv\n",
      "Shuffled: [42, 40, 38, 41, 43, 44, 39]\n",
      "constipation safe treatments_page_rank.csv\n",
      "Shuffled: [12]\n",
      "treating people already having hypertension_page_rank.csv\n",
      "Shuffled: [269, 263, 273, 266, 279, 285, 294, 275, 272, 253, 267, 286, 270, 261, 293, 255, 271, 283, 288, 257, 254, 291, 256, 278, 290, 292, 289, 262, 282, 264, 265, 277, 274, 258, 280, 268, 260, 287, 281, 276, 259, 284]\n",
      "safe treatments for asthma_pageRank.csv\n",
      "Shuffled: [45, 54, 47, 44, 51, 46, 52, 53, 55, 50, 43, 48, 49, 56]\n",
      "recommended anti-platelet doses for treating Coronary artery disease_page_rank_103.csv\n",
      "Shuffled: [76, 70, 92, 94, 100, 86, 65, 77, 75, 80, 83, 69, 74, 68, 93, 73, 96, 82, 98, 102, 101, 81, 95, 78, 97, 79, 84, 90, 99, 88, 72, 66, 71, 67, 85, 89, 91, 87]\n",
      "dietary approaches for obesity treatment_page_rank.csv\n",
      "Shuffled: [35, 34]\n",
      "haemorrhage cure_page_rank.csv\n",
      "Shuffled: [94, 92, 91, 93]\n",
      "antiretroviral therapy first time_pageRank.csv\n",
      "Shuffled: [36, 34, 35, 37, 38, 27, 33, 29, 28, 32, 30, 31, 26]\n",
      "Dietary Therapy Epilepsies_page_rank.csv\n",
      "Shuffled: []\n",
      "low back pain therapy workout_pageRank.csv\n",
      "Shuffled: [22, 20, 19, 21]\n",
      "Treating Anemia, Iron-Deficiency in CKD patients_page_rank_15.csv\n",
      "Shuffled: [13, 14]\n",
      "postoperative delirium_pageRank.csv\n",
      "Shuffled: []\n",
      "out of hospital cardiac arrest_page_rank.csv\n",
      "Shuffled: [51, 52, 47, 48, 50, 49]\n",
      "safe treatment for Alzheimer disease_page_rank.csv\n",
      "Shuffled: [13, 14, 15, 11, 12]\n",
      "managing constipation in children_pageRank.csv\n",
      "Shuffled: [62, 65, 66, 68, 63, 67, 71, 70, 69, 64]\n",
      "Hypercholesterolemia safe treatments_page_rank.csv\n",
      "Shuffled: []\n",
      "serious sleep apnea_page_rank.csv\n",
      "Shuffled: [55, 58, 57, 53, 50, 60, 56, 47, 52, 64, 65, 51, 59, 48, 61, 54, 63, 66, 62, 49]\n",
      "serious Rheumatoid arthritis_pageRank.csv\n",
      "Shuffled: [339, 332, 243, 347, 337, 333, 271, 336, 268, 302, 358, 272, 286, 311, 331, 290, 301, 309, 235, 247, 343, 304, 351, 267, 319, 308, 293, 342, 273, 248, 284, 340, 294, 338, 356, 341, 279, 322, 295, 265, 355, 310, 300, 327, 244, 242, 258, 299, 282, 238, 350, 275, 334, 324, 354, 278, 312, 239, 260, 320, 287, 240, 321, 256, 236, 303, 269, 326, 359, 281, 234, 288, 330, 292, 254, 329, 280, 249, 285, 325, 307, 237, 297, 298, 241, 349, 346, 315, 259, 255, 316, 353, 305, 348, 264, 245, 317, 291, 263, 253, 328, 344, 252, 257, 266, 357, 323, 296, 251, 270, 289, 277, 283, 335, 261, 318, 274, 345, 352, 313, 314, 262, 306, 246, 276, 250]\n",
      "Outcomes of cerebrovascular accident_page_rank.csv\n",
      "Shuffled: [290, 270, 277, 254, 302, 256, 293, 299, 292, 265, 268, 306, 275, 298, 252, 251, 282, 266, 272, 304, 255, 261, 300, 259, 278, 274, 294, 250, 291, 253, 269, 258, 267, 276, 264, 308, 289, 310, 283, 263, 295, 297, 296, 288, 286, 260, 287, 280, 284, 301, 262, 305, 257, 271, 303, 281, 273, 279, 307, 285, 309]\n",
      "HIV infection Treatment naive_page_rank.csv\n",
      "Shuffled: []\n",
      "malnutrition in young children_page_rank.csv\n",
      "Shuffled: [35, 43, 39, 44, 41, 34, 42, 40, 36, 38, 37]\n",
      "HIV infection seronegativity_page_rank.csv\n",
      "Shuffled: []\n",
      "Nonvalvular atrial fibrillation_page_rank.csv\n",
      "Shuffled: [192]\n",
      "Early Parkinson disease treatment_page_rank.csv\n",
      "Shuffled: []\n",
      "already having Celiac Disease_page_rank.csv\n",
      "Shuffled: []\n"
     ]
    }
   ],
   "source": [
    "for file in files:\n",
    "    print(file)\n",
    "    df = pd.read_csv(join(input_path, file))\n",
    "    \n",
    "    df = shuffleRowsOnTheBasisOfIncNegAndExcPos(df)\n",
    "    \n",
    "    df.to_csv(join(output_path, file))"
   ]
  },
  {
   "cell_type": "code",
   "execution_count": null,
   "metadata": {},
   "outputs": [],
   "source": []
  }
 ],
 "metadata": {
  "kernelspec": {
   "display_name": "Python 3",
   "language": "python",
   "name": "python3"
  },
  "language_info": {
   "codemirror_mode": {
    "name": "ipython",
    "version": 3
   },
   "file_extension": ".py",
   "mimetype": "text/x-python",
   "name": "python",
   "nbconvert_exporter": "python",
   "pygments_lexer": "ipython3",
   "version": "3.7.1"
  }
 },
 "nbformat": 4,
 "nbformat_minor": 2
}
