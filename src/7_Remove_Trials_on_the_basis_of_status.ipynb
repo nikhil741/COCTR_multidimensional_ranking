{
 "cells": [
  {
   "cell_type": "code",
   "execution_count": 36,
   "metadata": {},
   "outputs": [],
   "source": [
    "import pandas as pd\n",
    "from os.path import join\n",
    "from os import listdir\n",
    "from os import mkdir"
   ]
  },
  {
   "cell_type": "code",
   "execution_count": 37,
   "metadata": {},
   "outputs": [],
   "source": [
    "input_path = \"../data/5_Class_Csv_files\"\n",
    "output_path = \"../data/5_Class_Csv_files_status_removed\""
   ]
  },
  {
   "cell_type": "code",
   "execution_count": 38,
   "metadata": {},
   "outputs": [],
   "source": [
    "mkdir(output_path)"
   ]
  },
  {
   "cell_type": "code",
   "execution_count": 39,
   "metadata": {},
   "outputs": [
    {
     "data": {
      "text/plain": [
       "['1_Pathological Conditions, Signs and Symptoms_12826_date_appendedadverse_appended_status_appended.csv',\n",
       " '3_Cardiovascular Diseases_7293_date_appendedadverse_appended_status_appended.csv',\n",
       " '4_Nervous System Diseases_6172_date_appendedadverse_appended_status_appended.csv',\n",
       " '5_Nutritional and Metabolic Diseases_5240_date_appendedadverse_appended_status_appended.csv',\n",
       " '6_Immune System Diseases_5016_date_appendedadverse_appended_status_appended.csv']"
      ]
     },
     "execution_count": 39,
     "metadata": {},
     "output_type": "execute_result"
    }
   ],
   "source": [
    "files = sorted(listdir(input_path))\n",
    "files"
   ]
  },
  {
   "cell_type": "code",
   "execution_count": 40,
   "metadata": {},
   "outputs": [
    {
     "name": "stdout",
     "output_type": "stream",
     "text": [
      "1_Pathological Conditions, Signs and Symptoms_12826_date_appendedadverse_appended_status_appended.csv\n",
      "3_Cardiovascular Diseases_7293_date_appendedadverse_appended_status_appended.csv\n",
      "4_Nervous System Diseases_6172_date_appendedadverse_appended_status_appended.csv\n",
      "5_Nutritional and Metabolic Diseases_5240_date_appendedadverse_appended_status_appended.csv\n",
      "6_Immune System Diseases_5016_date_appendedadverse_appended_status_appended.csv\n"
     ]
    }
   ],
   "source": [
    "# \"Completed\", \"Unknown status\", \"Terminated\",  \n",
    "status = []\n",
    "for file in files:\n",
    "    print(file)\n",
    "    df = pd.read_csv(join(input_path, file))\n",
    "    status += list(set(df.Status))"
   ]
  },
  {
   "cell_type": "code",
   "execution_count": 41,
   "metadata": {},
   "outputs": [
    {
     "name": "stdout",
     "output_type": "stream",
     "text": [
      "Approved for marketing\n",
      "Enrolling by invitation\n",
      "Withdrawn\n",
      "Unknown status\n",
      "Completed\n",
      "Terminated\n",
      "Not yet recruiting\n",
      "Active, not recruiting\n",
      "Suspended\n",
      "Recruiting\n",
      "Available\n",
      "No longer available\n"
     ]
    }
   ],
   "source": [
    "for s in set(status):\n",
    "    print(s)"
   ]
  },
  {
   "cell_type": "code",
   "execution_count": 42,
   "metadata": {},
   "outputs": [
    {
     "name": "stdout",
     "output_type": "stream",
     "text": [
      "1_Pathological Conditions, Signs and Symptoms_12826_date_appendedadverse_appended_status_appended.csv\n",
      "11313\n",
      "3_Cardiovascular Diseases_7293_date_appendedadverse_appended_status_appended.csv\n",
      "6271\n",
      "4_Nervous System Diseases_6172_date_appendedadverse_appended_status_appended.csv\n",
      "5344\n",
      "5_Nutritional and Metabolic Diseases_5240_date_appendedadverse_appended_status_appended.csv\n",
      "4789\n",
      "6_Immune System Diseases_5016_date_appendedadverse_appended_status_appended.csv\n",
      "4426\n"
     ]
    }
   ],
   "source": [
    "statusToTakeList = ['Withdrawn', 'Completed', 'Terminated', 'Suspended']\n",
    "maxDate = 20190101\n",
    "for file in files:\n",
    "    print(file)\n",
    "    df = pd.read_csv(join(input_path, file))\n",
    "    indexList = []\n",
    "    row = 0\n",
    "    for status_date_tup in zip(df.Status, df.CompletionDate):\n",
    "        status = status_date_tup[0]\n",
    "        date = status_date_tup[1]\n",
    "        \n",
    "        if status in statusToTakeList or (status == 'Unknown status' and date<maxDate):\n",
    "            indexList.append(row)\n",
    "        row += 1\n",
    "    df1 = df.iloc[indexList, :]\n",
    "    df1.to_csv(join(output_path, \"_\".join(file.split(\"_\")[:2]) + \"_\" + str(len(indexList)) + \".csv\"))\n",
    "    print(len(indexList))    "
   ]
  },
  {
   "cell_type": "code",
   "execution_count": null,
   "metadata": {},
   "outputs": [],
   "source": []
  }
 ],
 "metadata": {
  "kernelspec": {
   "display_name": "Python 3",
   "language": "python",
   "name": "python3"
  },
  "language_info": {
   "codemirror_mode": {
    "name": "ipython",
    "version": 3
   },
   "file_extension": ".py",
   "mimetype": "text/x-python",
   "name": "python",
   "nbconvert_exporter": "python",
   "pygments_lexer": "ipython3",
   "version": "3.7.1"
  }
 },
 "nbformat": 4,
 "nbformat_minor": 2
}
