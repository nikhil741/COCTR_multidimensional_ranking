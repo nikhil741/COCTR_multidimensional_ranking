{
 "cells": [
  {
   "cell_type": "code",
   "execution_count": 18,
   "metadata": {},
   "outputs": [],
   "source": [
    "import glob\n",
    "import xml.etree.ElementTree as ET\n",
    "import collections\n",
    "import time\n",
    "from os import listdir\n",
    "import pandas as pd\n",
    "from os.path import join"
   ]
  },
  {
   "cell_type": "code",
   "execution_count": 19,
   "metadata": {},
   "outputs": [],
   "source": [
    "input_path = \"../data/final_adv_appended/final_adv\"\n",
    "output_path = \"../data/statusAppended\""
   ]
  },
  {
   "cell_type": "code",
   "execution_count": 20,
   "metadata": {},
   "outputs": [],
   "source": [
    "files = sorted(listdir(input_path))"
   ]
  },
  {
   "cell_type": "code",
   "execution_count": 21,
   "metadata": {},
   "outputs": [
    {
     "name": "stdout",
     "output_type": "stream",
     "text": [
      "1_Pathological Conditions, Signs and Symptoms_12826_1_queryResultsOurMethod_pageRank_date_appendedadverse_appended_popularity_appendedadverse_appended.csv\n",
      "1_Pathological Conditions, Signs and Symptoms_12826_2_queryResultsOurMethod_pageRank_date_appendedadverse_appended_popularity_appendedadverse_appended.csv\n",
      "1_Pathological Conditions, Signs and Symptoms_12826_3_queryResultsOurMethod_pageRank_date_appendedadverse_appended_popularity_appendedadverse_appended.csv\n",
      "1_Pathological Conditions, Signs and Symptoms_12826_4_queryResultsOurMethod_pageRank_date_appendedadverse_appended_popularity_appendedadverse_appended.csv\n",
      "1_Pathological Conditions, Signs and Symptoms_12826_5_queryResultsOurMethod_pageRank_date_appendedadverse_appended_popularity_appendedadverse_appended.csv\n",
      "2_Neoplasms_7398_1_queryResultsOurMethod_pageRank_date_appendedadverse_appended_popularity_appendedadverse_appended.csv\n",
      "2_Neoplasms_7398_2_queryResultsOurMethod_pageRank_date_appendedadverse_appended_popularity_appendedadverse_appended.csv\n",
      "2_Neoplasms_7398_3_queryResultsOurMethod_pageRank_date_appendedadverse_appended_popularity_appendedadverse_appended.csv\n",
      "2_Neoplasms_7398_4_queryResultsOurMethod_pageRank_date_appendedadverse_appended_popularity_appendedadverse_appended.csv\n",
      "2_Neoplasms_7398_5_queryResultsOurMethod_pageRank_date_appendedadverse_appended_popularity_appendedadverse_appended.csv\n",
      "3_Cardiovascular Diseases_7293_1_queryResultsOurMethod_pageRank_date_appendedadverse_appended_popularity_appendedadverse_appended.csv\n",
      "3_Cardiovascular Diseases_7293_2_queryResultsOurMethod_pageRank_date_appendedadverse_appended_popularity_appendedadverse_appended.csv\n",
      "3_Cardiovascular Diseases_7293_3_queryResultsOurMethod_pageRank_date_appendedadverse_appended_popularity_appendedadverse_appended.csv\n",
      "3_Cardiovascular Diseases_7293_4_queryResultsOurMethod_pageRank_date_appendedadverse_appended_popularity_appendedadverse_appended.csv\n",
      "3_Cardiovascular Diseases_7293_5_queryResultsOurMethod_pageRank_date_appendedadverse_appended_popularity_appendedadverse_appended.csv\n",
      "4_Nervous System Diseases_6172_1_queryResultsOurMethod_pageRank_date_appendedadverse_appended_popularity_appendedadverse_appended.csv\n",
      "4_Nervous System Diseases_6172_2_queryResultsOurMethod_pageRank_date_appendedadverse_appended_popularity_appendedadverse_appended.csv\n",
      "4_Nervous System Diseases_6172_3_queryResultsOurMethod_pageRank_date_appendedadverse_appended_popularity_appendedadverse_appended.csv\n",
      "4_Nervous System Diseases_6172_4_queryResultsOurMethod_pageRank_date_appendedadverse_appended_popularity_appendedadverse_appended.csv\n",
      "4_Nervous System Diseases_6172_5_queryResultsOurMethod_pageRank_date_appendedadverse_appended_popularity_appendedadverse_appended.csv\n",
      "5_Nutritional and Metabolic Diseases_5240_1_queryResultsOurMethod_pageRank_date_appendedadverse_appended_popularity_appendedadverse_appended.csv\n",
      "5_Nutritional and Metabolic Diseases_5240_2_queryResultsOurMethod_pageRank_date_appendedadverse_appended_popularity_appendedadverse_appended.csv\n",
      "5_Nutritional and Metabolic Diseases_5240_3_queryResultsOurMethod_pageRank_date_appendedadverse_appended_popularity_appendedadverse_appended.csv\n",
      "5_Nutritional and Metabolic Diseases_5240_4_queryResultsOurMethod_pageRank_date_appendedadverse_appended_popularity_appendedadverse_appended.csv\n",
      "5_Nutritional and Metabolic Diseases_5240_5_queryResultsOurMethod_pageRank_date_appendedadverse_appended_popularity_appendedadverse_appended.csv\n",
      "6_Immune System Diseases_5016_1_queryResultsOurMethod_pageRank_date_appendedadverse_appended_popularity_appendedadverse_appended.csv\n",
      "6_Immune System Diseases_5016_2_queryResultsOurMethod_pageRank_date_appendedadverse_appendedadverse_appended.csv\n",
      "6_Immune System Diseases_5016_3_queryResultsOurMethod_pageRank_date_appendedadverse_appended_popularity_appendedadverse_appended.csv\n",
      "6_Immune System Diseases_5016_4_queryResultsOurMethod_pageRank_date_appendedadverse_appended_popularity_appendedadverse_appended.csv\n",
      "6_Immune System Diseases_5016_5_queryResultsOurMethod_pageRank_date_appendedadverse_appended_popularity_appendedadverse_appended.csv\n"
     ]
    }
   ],
   "source": [
    "for file in files:\n",
    "    print(file)\n",
    "    statusList = []\n",
    "    df = pd.read_csv(join(input_path, file))\n",
    "#     print(df.columns)\n",
    "    for nctId in df.nct_id:\n",
    "#         print(nctId)\n",
    "        input_file = join(\"../data/AllPublicXML\", nctId[0:7]+\"xxxx\", nctId+\".xml\")\n",
    "#         print(input_file)\n",
    "        tree = ET.parse(input_file)\n",
    "        root = tree.getroot()\n",
    "        \n",
    "        status = \"\"\n",
    "        try:\n",
    "            status = root.find('overall_status').text\n",
    "            statusList.append(status)\n",
    "        except:\n",
    "            statusList.append(\"\")\n",
    "            \n",
    "    \n",
    "    \n",
    "#     print(newColumnList)\n",
    "    df['Status'] = statusList\n",
    "    df.to_csv(join(output_path, file.split(\".\")[0] + \"_date_appended\" + \".csv\"), index=False)"
   ]
  }
 ],
 "metadata": {
  "kernelspec": {
   "display_name": "Python 3",
   "language": "python",
   "name": "python3"
  },
  "language_info": {
   "codemirror_mode": {
    "name": "ipython",
    "version": 3
   },
   "file_extension": ".py",
   "mimetype": "text/x-python",
   "name": "python",
   "nbconvert_exporter": "python",
   "pygments_lexer": "ipython3",
   "version": "3.6.6"
  }
 },
 "nbformat": 4,
 "nbformat_minor": 2
}
