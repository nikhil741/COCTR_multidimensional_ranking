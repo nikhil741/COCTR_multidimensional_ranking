{
 "cells": [
  {
   "cell_type": "code",
   "execution_count": 5,
   "metadata": {},
   "outputs": [],
   "source": [
    "import pandas as pd\n",
    "from collections import defaultdict\n",
    "from client import get_quickumls_client\n",
    "import pickle\n",
    "from os import mkdir\n",
    "from os.path import join\n",
    "from os import listdir"
   ]
  },
  {
   "cell_type": "code",
   "execution_count": 6,
   "metadata": {},
   "outputs": [],
   "source": [
    "matcher = get_quickumls_client()"
   ]
  },
  {
   "cell_type": "code",
   "execution_count": 18,
   "metadata": {},
   "outputs": [],
   "source": [
    "data = \"Cognitive dysfunction\""
   ]
  },
  {
   "cell_type": "code",
   "execution_count": 19,
   "metadata": {},
   "outputs": [
    {
     "data": {
      "text/plain": [
       "[[{'start': 0,\n",
       "   'end': 21,\n",
       "   'ngram': 'Cognitive dysfunction',\n",
       "   'term': 'Cognitive dysfunction',\n",
       "   'cui': 'C0338656',\n",
       "   'similarity': 1.0,\n",
       "   'semtypes': {'T048'},\n",
       "   'preferred': 1},\n",
       "  {'start': 0,\n",
       "   'end': 21,\n",
       "   'ngram': 'Cognitive dysfunction',\n",
       "   'term': 'Cognitive dysfunction (rare)',\n",
       "   'cui': 'C1833998',\n",
       "   'similarity': 0.7307692307692307,\n",
       "   'semtypes': {'T033'},\n",
       "   'preferred': 1}]]"
      ]
     },
     "execution_count": 19,
     "metadata": {},
     "output_type": "execute_result"
    }
   ],
   "source": [
    "concepts = matcher.match(data, best_match=True, ignore_syntax=False)\n",
    "concepts"
   ]
  },
  {
   "cell_type": "code",
   "execution_count": null,
   "metadata": {},
   "outputs": [],
   "source": [
    "[elem[0][u'cui'] for elem in concepts]"
   ]
  }
 ],
 "metadata": {
  "kernelspec": {
   "display_name": "Python 3",
   "language": "python",
   "name": "python3"
  },
  "language_info": {
   "codemirror_mode": {
    "name": "ipython",
    "version": 3
   },
   "file_extension": ".py",
   "mimetype": "text/x-python",
   "name": "python",
   "nbconvert_exporter": "python",
   "pygments_lexer": "ipython3",
   "version": "3.7.1"
  }
 },
 "nbformat": 4,
 "nbformat_minor": 2
}
