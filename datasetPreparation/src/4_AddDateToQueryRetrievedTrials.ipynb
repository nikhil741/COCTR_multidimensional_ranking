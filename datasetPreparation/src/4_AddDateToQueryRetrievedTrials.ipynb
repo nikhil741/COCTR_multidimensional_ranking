{
 "cells": [
  {
   "cell_type": "code",
   "execution_count": 1,
   "metadata": {},
   "outputs": [],
   "source": [
    "import pandas as pd\n",
    "from os import listdir\n",
    "from os.path import join\n",
    "from os import mkdir\n",
    "import xml.etree.ElementTree as ET"
   ]
  },
  {
   "cell_type": "code",
   "execution_count": 2,
   "metadata": {},
   "outputs": [],
   "source": [
    "# mkdir(\"../data/datesAppendedToRelevantResults\")"
   ]
  },
  {
   "cell_type": "code",
   "execution_count": 4,
   "metadata": {},
   "outputs": [
    {
     "data": {
      "text/plain": [
       "['6_Immune System Diseases_5016_1_queryResultsOurMethod_pageRank.csv']"
      ]
     },
     "execution_count": 4,
     "metadata": {},
     "output_type": "execute_result"
    }
   ],
   "source": [
    "input_path = \"../data/conceptsAppendedToAllClasses\"\n",
    "output_path = \"../data/dateAppended\""
   ]
  },
  {
   "cell_type": "code",
   "execution_count": null,
   "metadata": {},
   "outputs": [],
   "source": [
    "mkdir(output_path)"
   ]
  },
  {
   "cell_type": "code",
   "execution_count": null,
   "metadata": {},
   "outputs": [],
   "source": [
    "files = sorted(listdir(input_path))\n",
    "files"
   ]
  },
  {
   "cell_type": "code",
   "execution_count": 6,
   "metadata": {},
   "outputs": [
    {
     "data": {
      "text/plain": [
       "['6_Immune System Diseases_5016_1_queryResultsOurMethod_pageRank.csv']"
      ]
     },
     "execution_count": 6,
     "metadata": {},
     "output_type": "execute_result"
    }
   ],
   "source": [
    "files"
   ]
  },
  {
   "cell_type": "code",
   "execution_count": 7,
   "metadata": {},
   "outputs": [],
   "source": [
    "month_dict = {\"January\": \"01\", \n",
    "              \"February\":\"02\", \n",
    "              \"March\":\"03\", \n",
    "              \"April\": \"04\", \n",
    "              \"May\": \"05\", \n",
    "              \"June\": \"06\" , \n",
    "              \"July\": \"07\", \n",
    "              \"August\": \"08\", \n",
    "              \"September\": \"09\", \n",
    "              \"October\": \"10\", \n",
    "              \"November\": \"11\", \n",
    "              \"December\": \"12\"}"
   ]
  },
  {
   "cell_type": "code",
   "execution_count": 8,
   "metadata": {},
   "outputs": [],
   "source": [
    "def appendDate(cmp_date):\n",
    "    newDate = \"\"\n",
    "#     print(\"Cmp:\", cmp_date)\n",
    "    mdy = cmp_date.split()\n",
    "#     print(\"MDY\", mdy)\n",
    "    \n",
    "        \n",
    "    newDate += mdy[-1]\n",
    "    newDate += month_dict[mdy[0]]\n",
    "#     print(\"Neds\", newDate)\n",
    "    \n",
    "    if len(mdy) == 3:\n",
    "        if len(mdy[1][:-1])>1:\n",
    "            newDate += mdy[1][:-1]\n",
    "        else:\n",
    "            newDate += '0'\n",
    "            newDate += mdy[1][:-1]\n",
    "    else:\n",
    "        newDate += \"01\" \n",
    "\n",
    "#     print(\"NewDate:\", newDate)\n",
    "    return newDate"
   ]
  },
  {
   "cell_type": "code",
   "execution_count": 9,
   "metadata": {},
   "outputs": [],
   "source": [
    "for file in files:\n",
    "    newColumnList = []\n",
    "    df = pd.read_csv(join(input_path, file))\n",
    "#     print(df.columns)\n",
    "    for nctId in df.nct_id:\n",
    "#         print(nctId)\n",
    "        input_file = join(\"../data/AllPublicXML\", nctId[0:7]+\"xxxx\", nctId+\".xml\")\n",
    "#         print(input_file)\n",
    "        tree = ET.parse(input_file)\n",
    "        root = tree.getroot()\n",
    "        \n",
    "        newDate = \"\"\n",
    "        try:\n",
    "            cmp_date = root.find('completion_date').text\n",
    "#             print(\":Hello\")\n",
    "            newDate = appendDate(cmp_date) \n",
    "        except:\n",
    "            try:\n",
    "                cmp_date = root.find('primary_completion_date').text\n",
    "                newDate = appendDate(cmp_date)\n",
    "            except:\n",
    "                try:\n",
    "                    cmp_date = root.find('last_update_posted').text\n",
    "                    newDate = appendDate(cmp_date)\n",
    "                except:\n",
    "                    print(nctId)\n",
    "                    newDate = \"NA\"\n",
    "        newColumnList.append(newDate)\n",
    "        \n",
    "    \n",
    "    \n",
    "#     print(newColumnList)\n",
    "    df['CompletionDate'] = newColumnList\n",
    "    df.to_csv(join(output_path, file.split(\".\")[0] + \"_date_appended\" + \".csv\"), index=False)"
   ]
  }
 ],
 "metadata": {
  "kernelspec": {
   "display_name": "Python 3",
   "language": "python",
   "name": "python3"
  },
  "language_info": {
   "codemirror_mode": {
    "name": "ipython",
    "version": 3
   },
   "file_extension": ".py",
   "mimetype": "text/x-python",
   "name": "python",
   "nbconvert_exporter": "python",
   "pygments_lexer": "ipython3",
   "version": "3.6.6"
  }
 },
 "nbformat": 4,
 "nbformat_minor": 2
}
