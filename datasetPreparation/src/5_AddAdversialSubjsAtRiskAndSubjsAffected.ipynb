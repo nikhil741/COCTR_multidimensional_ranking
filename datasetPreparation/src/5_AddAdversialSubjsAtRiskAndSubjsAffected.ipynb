{
 "cells": [
  {
   "cell_type": "code",
   "execution_count": 47,
   "metadata": {},
   "outputs": [],
   "source": [
    "import pandas as pd\n",
    "from os import listdir\n",
    "from os.path import join\n",
    "import pickle\n",
    "from os import mkdir"
   ]
  },
  {
   "cell_type": "code",
   "execution_count": 48,
   "metadata": {},
   "outputs": [],
   "source": [
    "# input_path = \"../output/dateappended\"\n",
    "# output_path = \"../output/adv_risk_affected_appended\""
   ]
  },
  {
   "cell_type": "code",
   "execution_count": 49,
   "metadata": {},
   "outputs": [],
   "source": [
    "input_path = \"../data/dateAppended\"\n",
    "output_path = \"../data/final_adv_appended\""
   ]
  },
  {
   "cell_type": "code",
   "execution_count": 50,
   "metadata": {},
   "outputs": [],
   "source": [
    "# mkdir(output_path)"
   ]
  },
  {
   "cell_type": "code",
   "execution_count": 51,
   "metadata": {},
   "outputs": [],
   "source": [
    "adv_df = pd.read_csv(\"../data/reported_events.txt\", sep=\"|\")"
   ]
  },
  {
   "cell_type": "code",
   "execution_count": 52,
   "metadata": {},
   "outputs": [
    {
     "name": "stdout",
     "output_type": "stream",
     "text": [
      "(4456107, 17)\n"
     ]
    }
   ],
   "source": [
    "print(adv_df.shape)"
   ]
  },
  {
   "cell_type": "code",
   "execution_count": 53,
   "metadata": {},
   "outputs": [
    {
     "data": {
      "text/html": [
       "<div>\n",
       "<style scoped>\n",
       "    .dataframe tbody tr th:only-of-type {\n",
       "        vertical-align: middle;\n",
       "    }\n",
       "\n",
       "    .dataframe tbody tr th {\n",
       "        vertical-align: top;\n",
       "    }\n",
       "\n",
       "    .dataframe thead th {\n",
       "        text-align: right;\n",
       "    }\n",
       "</style>\n",
       "<table border=\"1\" class=\"dataframe\">\n",
       "  <thead>\n",
       "    <tr style=\"text-align: right;\">\n",
       "      <th></th>\n",
       "      <th>id</th>\n",
       "      <th>nct_id</th>\n",
       "      <th>result_group_id</th>\n",
       "      <th>ctgov_group_code</th>\n",
       "      <th>time_frame</th>\n",
       "      <th>event_type</th>\n",
       "      <th>default_vocab</th>\n",
       "      <th>default_assessment</th>\n",
       "      <th>subjects_affected</th>\n",
       "      <th>subjects_at_risk</th>\n",
       "      <th>description</th>\n",
       "      <th>event_count</th>\n",
       "      <th>organ_system</th>\n",
       "      <th>adverse_event_term</th>\n",
       "      <th>frequency_threshold</th>\n",
       "      <th>vocab</th>\n",
       "      <th>assessment</th>\n",
       "    </tr>\n",
       "  </thead>\n",
       "  <tbody>\n",
       "    <tr>\n",
       "      <th>0</th>\n",
       "      <td>22938255</td>\n",
       "      <td>NCT03704376</td>\n",
       "      <td>4369989</td>\n",
       "      <td>E2</td>\n",
       "      <td>6 months</td>\n",
       "      <td>serious</td>\n",
       "      <td>NaN</td>\n",
       "      <td>NaN</td>\n",
       "      <td>0.0</td>\n",
       "      <td>40.0</td>\n",
       "      <td>NaN</td>\n",
       "      <td>NaN</td>\n",
       "      <td>Total</td>\n",
       "      <td>Total, serious adverse events</td>\n",
       "      <td>0</td>\n",
       "      <td>NaN</td>\n",
       "      <td>NaN</td>\n",
       "    </tr>\n",
       "    <tr>\n",
       "      <th>1</th>\n",
       "      <td>22938256</td>\n",
       "      <td>NCT03704376</td>\n",
       "      <td>4369990</td>\n",
       "      <td>E1</td>\n",
       "      <td>6 months</td>\n",
       "      <td>serious</td>\n",
       "      <td>NaN</td>\n",
       "      <td>NaN</td>\n",
       "      <td>0.0</td>\n",
       "      <td>38.0</td>\n",
       "      <td>NaN</td>\n",
       "      <td>NaN</td>\n",
       "      <td>Total</td>\n",
       "      <td>Total, serious adverse events</td>\n",
       "      <td>0</td>\n",
       "      <td>NaN</td>\n",
       "      <td>NaN</td>\n",
       "    </tr>\n",
       "    <tr>\n",
       "      <th>2</th>\n",
       "      <td>22938257</td>\n",
       "      <td>NCT03704376</td>\n",
       "      <td>4369989</td>\n",
       "      <td>E2</td>\n",
       "      <td>6 months</td>\n",
       "      <td>serious</td>\n",
       "      <td>NaN</td>\n",
       "      <td>NaN</td>\n",
       "      <td>0.0</td>\n",
       "      <td>40.0</td>\n",
       "      <td>NaN</td>\n",
       "      <td>NaN</td>\n",
       "      <td>Total</td>\n",
       "      <td>Total, all-cause mortality</td>\n",
       "      <td>0</td>\n",
       "      <td>NaN</td>\n",
       "      <td>NaN</td>\n",
       "    </tr>\n",
       "    <tr>\n",
       "      <th>3</th>\n",
       "      <td>22938258</td>\n",
       "      <td>NCT03704376</td>\n",
       "      <td>4369990</td>\n",
       "      <td>E1</td>\n",
       "      <td>6 months</td>\n",
       "      <td>serious</td>\n",
       "      <td>NaN</td>\n",
       "      <td>NaN</td>\n",
       "      <td>0.0</td>\n",
       "      <td>38.0</td>\n",
       "      <td>NaN</td>\n",
       "      <td>NaN</td>\n",
       "      <td>Total</td>\n",
       "      <td>Total, all-cause mortality</td>\n",
       "      <td>0</td>\n",
       "      <td>NaN</td>\n",
       "      <td>NaN</td>\n",
       "    </tr>\n",
       "    <tr>\n",
       "      <th>4</th>\n",
       "      <td>22938259</td>\n",
       "      <td>NCT03704376</td>\n",
       "      <td>4369989</td>\n",
       "      <td>E2</td>\n",
       "      <td>6 months</td>\n",
       "      <td>other</td>\n",
       "      <td>NaN</td>\n",
       "      <td>Non-systematic Assessment</td>\n",
       "      <td>1.0</td>\n",
       "      <td>40.0</td>\n",
       "      <td>NaN</td>\n",
       "      <td>1.0</td>\n",
       "      <td>Vascular disorders</td>\n",
       "      <td>Deep Vein Thrombosis</td>\n",
       "      <td>0</td>\n",
       "      <td>NaN</td>\n",
       "      <td>NaN</td>\n",
       "    </tr>\n",
       "  </tbody>\n",
       "</table>\n",
       "</div>"
      ],
      "text/plain": [
       "         id       nct_id  result_group_id ctgov_group_code time_frame  \\\n",
       "0  22938255  NCT03704376          4369989               E2   6 months   \n",
       "1  22938256  NCT03704376          4369990               E1   6 months   \n",
       "2  22938257  NCT03704376          4369989               E2   6 months   \n",
       "3  22938258  NCT03704376          4369990               E1   6 months   \n",
       "4  22938259  NCT03704376          4369989               E2   6 months   \n",
       "\n",
       "  event_type default_vocab         default_assessment  subjects_affected  \\\n",
       "0    serious           NaN                        NaN                0.0   \n",
       "1    serious           NaN                        NaN                0.0   \n",
       "2    serious           NaN                        NaN                0.0   \n",
       "3    serious           NaN                        NaN                0.0   \n",
       "4      other           NaN  Non-systematic Assessment                1.0   \n",
       "\n",
       "   subjects_at_risk description  event_count        organ_system  \\\n",
       "0              40.0         NaN          NaN               Total   \n",
       "1              38.0         NaN          NaN               Total   \n",
       "2              40.0         NaN          NaN               Total   \n",
       "3              38.0         NaN          NaN               Total   \n",
       "4              40.0         NaN          1.0  Vascular disorders   \n",
       "\n",
       "              adverse_event_term  frequency_threshold vocab assessment  \n",
       "0  Total, serious adverse events                    0   NaN        NaN  \n",
       "1  Total, serious adverse events                    0   NaN        NaN  \n",
       "2     Total, all-cause mortality                    0   NaN        NaN  \n",
       "3     Total, all-cause mortality                    0   NaN        NaN  \n",
       "4           Deep Vein Thrombosis                    0   NaN        NaN  "
      ]
     },
     "execution_count": 53,
     "metadata": {},
     "output_type": "execute_result"
    }
   ],
   "source": [
    "adv_df.head()"
   ]
  },
  {
   "cell_type": "code",
   "execution_count": 54,
   "metadata": {},
   "outputs": [],
   "source": [
    "adv_df = adv_df.drop(['result_group_id', 'ctgov_group_code', 'time_frame', 'event_type', 'default_vocab', 'default_assessment', 'description', 'event_count', 'organ_system', 'adverse_event_term', 'frequency_threshold', 'vocab', 'assessment'], axis=1)"
   ]
  },
  {
   "cell_type": "code",
   "execution_count": 55,
   "metadata": {},
   "outputs": [],
   "source": [
    "groups = adv_df.groupby('nct_id')"
   ]
  },
  {
   "cell_type": "code",
   "execution_count": 56,
   "metadata": {},
   "outputs": [],
   "source": [
    "adv_dict = {}\n",
    "for a, b in groups:\n",
    "#     print(a)\n",
    "#     print(b)\n",
    "    tot_subj_affect = 0\n",
    "    tot_subj_risk = 0\n",
    "    \n",
    "    for subj_aff in b.subjects_affected:\n",
    "        tot_subj_affect += subj_aff\n",
    "#         print(subj_aff)\n",
    "    \n",
    "    for subj_risk in b.subjects_at_risk:\n",
    "        if subj_risk > 0:\n",
    "            tot_subj_risk += subj_risk\n",
    "#         print(subj_risk)\n",
    "    newDict = {}\n",
    "    newDict['tot_subj_affected'] = tot_subj_affect\n",
    "    newDict['tot_subj_risk'] = tot_subj_risk\n",
    "    adv_dict[a] = newDict\n",
    "#     print(adv_dict)"
   ]
  },
  {
   "cell_type": "code",
   "execution_count": 57,
   "metadata": {},
   "outputs": [],
   "source": [
    "pickle.dump(adv_dict, open(\"../data/adversialSubjRiskAndAffectedCount.p\", \"wb\"))"
   ]
  },
  {
   "cell_type": "code",
   "execution_count": 58,
   "metadata": {},
   "outputs": [],
   "source": [
    "adv_dict_count = pickle.load(open(\"../data/adversialSubjRiskAndAffectedCount.p\", \"rb\"))"
   ]
  },
  {
   "cell_type": "code",
   "execution_count": 59,
   "metadata": {},
   "outputs": [],
   "source": [
    "# mkdir(\"../output/adv_risk_affected_appended\")"
   ]
  },
  {
   "cell_type": "code",
   "execution_count": 60,
   "metadata": {},
   "outputs": [],
   "source": [
    "files = sorted(listdir(input_path))"
   ]
  },
  {
   "cell_type": "code",
   "execution_count": 61,
   "metadata": {},
   "outputs": [
    {
     "data": {
      "text/plain": [
       "['1_Pathological Conditions, Signs and Symptoms_12826_1_queryResultsOurMethod_pageRank_date_appendedadverse_appended_popularity_appended.csv',\n",
       " '1_Pathological Conditions, Signs and Symptoms_12826_2_queryResultsOurMethod_pageRank_date_appendedadverse_appended_popularity_appended.csv',\n",
       " '1_Pathological Conditions, Signs and Symptoms_12826_3_queryResultsOurMethod_pageRank_date_appendedadverse_appended_popularity_appended.csv',\n",
       " '1_Pathological Conditions, Signs and Symptoms_12826_4_queryResultsOurMethod_pageRank_date_appendedadverse_appended_popularity_appended.csv',\n",
       " '1_Pathological Conditions, Signs and Symptoms_12826_5_queryResultsOurMethod_pageRank_date_appendedadverse_appended_popularity_appended.csv',\n",
       " '2_Neoplasms_7398_1_queryResultsOurMethod_pageRank_date_appendedadverse_appended_popularity_appended.csv',\n",
       " '2_Neoplasms_7398_2_queryResultsOurMethod_pageRank_date_appendedadverse_appended_popularity_appended.csv',\n",
       " '2_Neoplasms_7398_3_queryResultsOurMethod_pageRank_date_appendedadverse_appended_popularity_appended.csv',\n",
       " '2_Neoplasms_7398_4_queryResultsOurMethod_pageRank_date_appendedadverse_appended_popularity_appended.csv',\n",
       " '2_Neoplasms_7398_5_queryResultsOurMethod_pageRank_date_appendedadverse_appended_popularity_appended.csv',\n",
       " '3_Cardiovascular Diseases_7293_1_queryResultsOurMethod_pageRank_date_appendedadverse_appended_popularity_appended.csv',\n",
       " '3_Cardiovascular Diseases_7293_2_queryResultsOurMethod_pageRank_date_appendedadverse_appended_popularity_appended.csv',\n",
       " '3_Cardiovascular Diseases_7293_3_queryResultsOurMethod_pageRank_date_appendedadverse_appended_popularity_appended.csv',\n",
       " '3_Cardiovascular Diseases_7293_4_queryResultsOurMethod_pageRank_date_appendedadverse_appended_popularity_appended.csv',\n",
       " '3_Cardiovascular Diseases_7293_5_queryResultsOurMethod_pageRank_date_appendedadverse_appended_popularity_appended.csv',\n",
       " '4_Nervous System Diseases_6172_1_queryResultsOurMethod_pageRank_date_appendedadverse_appended_popularity_appended.csv',\n",
       " '4_Nervous System Diseases_6172_2_queryResultsOurMethod_pageRank_date_appendedadverse_appended_popularity_appended.csv',\n",
       " '4_Nervous System Diseases_6172_3_queryResultsOurMethod_pageRank_date_appendedadverse_appended_popularity_appended.csv',\n",
       " '4_Nervous System Diseases_6172_4_queryResultsOurMethod_pageRank_date_appendedadverse_appended_popularity_appended.csv',\n",
       " '4_Nervous System Diseases_6172_5_queryResultsOurMethod_pageRank_date_appendedadverse_appended_popularity_appended.csv',\n",
       " '5_Nutritional and Metabolic Diseases_5240_1_queryResultsOurMethod_pageRank_date_appendedadverse_appended_popularity_appended.csv',\n",
       " '5_Nutritional and Metabolic Diseases_5240_2_queryResultsOurMethod_pageRank_date_appendedadverse_appended_popularity_appended.csv',\n",
       " '5_Nutritional and Metabolic Diseases_5240_3_queryResultsOurMethod_pageRank_date_appendedadverse_appended_popularity_appended.csv',\n",
       " '5_Nutritional and Metabolic Diseases_5240_4_queryResultsOurMethod_pageRank_date_appendedadverse_appended_popularity_appended.csv',\n",
       " '5_Nutritional and Metabolic Diseases_5240_5_queryResultsOurMethod_pageRank_date_appendedadverse_appended_popularity_appended.csv',\n",
       " '6_Immune System Diseases_5016_1_queryResultsOurMethod_pageRank_date_appendedadverse_appended_popularity_appended.csv',\n",
       " '6_Immune System Diseases_5016_2_queryResultsOurMethod_pageRank_date_appendedadverse_appended.csv',\n",
       " '6_Immune System Diseases_5016_3_queryResultsOurMethod_pageRank_date_appendedadverse_appended_popularity_appended.csv',\n",
       " '6_Immune System Diseases_5016_4_queryResultsOurMethod_pageRank_date_appendedadverse_appended_popularity_appended.csv',\n",
       " '6_Immune System Diseases_5016_5_queryResultsOurMethod_pageRank_date_appendedadverse_appended_popularity_appended.csv']"
      ]
     },
     "execution_count": 61,
     "metadata": {},
     "output_type": "execute_result"
    }
   ],
   "source": [
    "files"
   ]
  },
  {
   "cell_type": "code",
   "execution_count": 62,
   "metadata": {},
   "outputs": [
    {
     "name": "stdout",
     "output_type": "stream",
     "text": [
      "1_Pathological Conditions, Signs and Symptoms_12826_1_queryResultsOurMethod_pageRank_date_appendedadverse_appended_popularity_appended.csv\n",
      "1_Pathological Conditions, Signs and Symptoms_12826_2_queryResultsOurMethod_pageRank_date_appendedadverse_appended_popularity_appended.csv\n",
      "1_Pathological Conditions, Signs and Symptoms_12826_3_queryResultsOurMethod_pageRank_date_appendedadverse_appended_popularity_appended.csv\n",
      "1_Pathological Conditions, Signs and Symptoms_12826_4_queryResultsOurMethod_pageRank_date_appendedadverse_appended_popularity_appended.csv\n",
      "1_Pathological Conditions, Signs and Symptoms_12826_5_queryResultsOurMethod_pageRank_date_appendedadverse_appended_popularity_appended.csv\n",
      "2_Neoplasms_7398_1_queryResultsOurMethod_pageRank_date_appendedadverse_appended_popularity_appended.csv\n",
      "2_Neoplasms_7398_2_queryResultsOurMethod_pageRank_date_appendedadverse_appended_popularity_appended.csv\n",
      "2_Neoplasms_7398_3_queryResultsOurMethod_pageRank_date_appendedadverse_appended_popularity_appended.csv\n",
      "2_Neoplasms_7398_4_queryResultsOurMethod_pageRank_date_appendedadverse_appended_popularity_appended.csv\n",
      "2_Neoplasms_7398_5_queryResultsOurMethod_pageRank_date_appendedadverse_appended_popularity_appended.csv\n",
      "3_Cardiovascular Diseases_7293_1_queryResultsOurMethod_pageRank_date_appendedadverse_appended_popularity_appended.csv\n",
      "3_Cardiovascular Diseases_7293_2_queryResultsOurMethod_pageRank_date_appendedadverse_appended_popularity_appended.csv\n",
      "3_Cardiovascular Diseases_7293_3_queryResultsOurMethod_pageRank_date_appendedadverse_appended_popularity_appended.csv\n",
      "3_Cardiovascular Diseases_7293_4_queryResultsOurMethod_pageRank_date_appendedadverse_appended_popularity_appended.csv\n",
      "3_Cardiovascular Diseases_7293_5_queryResultsOurMethod_pageRank_date_appendedadverse_appended_popularity_appended.csv\n",
      "4_Nervous System Diseases_6172_1_queryResultsOurMethod_pageRank_date_appendedadverse_appended_popularity_appended.csv\n",
      "4_Nervous System Diseases_6172_2_queryResultsOurMethod_pageRank_date_appendedadverse_appended_popularity_appended.csv\n",
      "4_Nervous System Diseases_6172_3_queryResultsOurMethod_pageRank_date_appendedadverse_appended_popularity_appended.csv\n",
      "4_Nervous System Diseases_6172_4_queryResultsOurMethod_pageRank_date_appendedadverse_appended_popularity_appended.csv\n",
      "4_Nervous System Diseases_6172_5_queryResultsOurMethod_pageRank_date_appendedadverse_appended_popularity_appended.csv\n",
      "5_Nutritional and Metabolic Diseases_5240_1_queryResultsOurMethod_pageRank_date_appendedadverse_appended_popularity_appended.csv\n",
      "5_Nutritional and Metabolic Diseases_5240_2_queryResultsOurMethod_pageRank_date_appendedadverse_appended_popularity_appended.csv\n",
      "5_Nutritional and Metabolic Diseases_5240_3_queryResultsOurMethod_pageRank_date_appendedadverse_appended_popularity_appended.csv\n",
      "5_Nutritional and Metabolic Diseases_5240_4_queryResultsOurMethod_pageRank_date_appendedadverse_appended_popularity_appended.csv\n",
      "5_Nutritional and Metabolic Diseases_5240_5_queryResultsOurMethod_pageRank_date_appendedadverse_appended_popularity_appended.csv\n",
      "6_Immune System Diseases_5016_1_queryResultsOurMethod_pageRank_date_appendedadverse_appended_popularity_appended.csv\n",
      "6_Immune System Diseases_5016_2_queryResultsOurMethod_pageRank_date_appendedadverse_appended.csv\n",
      "6_Immune System Diseases_5016_3_queryResultsOurMethod_pageRank_date_appendedadverse_appended_popularity_appended.csv\n",
      "6_Immune System Diseases_5016_4_queryResultsOurMethod_pageRank_date_appendedadverse_appended_popularity_appended.csv\n",
      "6_Immune System Diseases_5016_5_queryResultsOurMethod_pageRank_date_appendedadverse_appended_popularity_appended.csv\n"
     ]
    }
   ],
   "source": [
    "for file in files:\n",
    "    subj_aff_list = []\n",
    "    subj_at_risk_list = []\n",
    "    print(file)\n",
    "    rel_df = pd.read_csv(join(input_path, file))\n",
    "    for nct_id in rel_df.nct_id:\n",
    "#         print(nct_id)\n",
    "        if nct_id in adv_dict_count.keys():\n",
    "            subj_aff_list.append(adv_dict_count[nct_id]['tot_subj_affected'])\n",
    "            subj_at_risk_list.append(adv_dict_count[nct_id]['tot_subj_risk'])\n",
    "        else:\n",
    "            subj_aff_list.append(\"NA\")\n",
    "            subj_at_risk_list.append(\"NA\")\n",
    "    \n",
    "    rel_df['tot_subj_affected'] = subj_aff_list\n",
    "    rel_df['tot_subj_risk'] = subj_at_risk_list\n",
    "    rel_df.to_csv(join(output_path, file.split(\".\")[0] + \"adverse_appended\" + \".csv\"), index=False)    "
   ]
  },
  {
   "cell_type": "code",
   "execution_count": null,
   "metadata": {},
   "outputs": [],
   "source": []
  }
 ],
 "metadata": {
  "kernelspec": {
   "display_name": "Python 3",
   "language": "python",
   "name": "python3"
  },
  "language_info": {
   "codemirror_mode": {
    "name": "ipython",
    "version": 3
   },
   "file_extension": ".py",
   "mimetype": "text/x-python",
   "name": "python",
   "nbconvert_exporter": "python",
   "pygments_lexer": "ipython3",
   "version": "3.6.6"
  }
 },
 "nbformat": 4,
 "nbformat_minor": 2
}
