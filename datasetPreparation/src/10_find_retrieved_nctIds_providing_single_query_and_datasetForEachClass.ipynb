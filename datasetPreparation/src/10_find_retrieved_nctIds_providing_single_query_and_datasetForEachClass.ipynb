{
 "cells": [
  {
   "cell_type": "code",
   "execution_count": 157,
   "metadata": {},
   "outputs": [],
   "source": [
    "import pandas as pd\n",
    "from collections import defaultdict\n",
    "from quickUmls.client import get_quickumls_client\n",
    "import pickle\n",
    "from os import mkdir\n",
    "from os.path import join\n",
    "from os import listdir\n",
    "import numpy as np\n",
    "import networkx as nx"
   ]
  },
  {
   "cell_type": "code",
   "execution_count": 158,
   "metadata": {},
   "outputs": [],
   "source": [
    "matcher = get_quickumls_client()"
   ]
  },
  {
   "cell_type": "code",
   "execution_count": 159,
   "metadata": {},
   "outputs": [],
   "source": [
    "baseCsvFilesPath = \"../data/popularityAppended\"\n",
    "output_path = \"../data/single_query_results/\""
   ]
  },
  {
   "cell_type": "markdown",
   "metadata": {},
   "source": [
    "mkdir(output_path)"
   ]
  },
  {
   "cell_type": "code",
   "execution_count": 160,
   "metadata": {},
   "outputs": [
    {
     "data": {
      "text/plain": [
       "['1_Pathological Conditions, Signs and Symptoms_11313.csv',\n",
       " '3_Cardiovascular Diseases_6271.csv',\n",
       " '4_Nervous System Diseases_5344.csv',\n",
       " '5_Nutritional and Metabolic Diseases_4789.csv',\n",
       " '6_Immune System Diseases_4426.csv']"
      ]
     },
     "execution_count": 160,
     "metadata": {},
     "output_type": "execute_result"
    }
   ],
   "source": [
    "csvFiles = sorted(listdir(baseCsvFilesPath))\n",
    "csvFiles"
   ]
  },
  {
   "cell_type": "code",
   "execution_count": 161,
   "metadata": {},
   "outputs": [
    {
     "data": {
      "text/plain": [
       "'5_Nutritional and Metabolic Diseases_4789.csv'"
      ]
     },
     "execution_count": 161,
     "metadata": {},
     "output_type": "execute_result"
    }
   ],
   "source": [
    "keyCsv = 3\n",
    "csvFiles[keyCsv]"
   ]
  },
  {
   "cell_type": "code",
   "execution_count": 162,
   "metadata": {},
   "outputs": [
    {
     "data": {
      "text/plain": [
       "(4789, 23)"
      ]
     },
     "execution_count": 162,
     "metadata": {},
     "output_type": "execute_result"
    }
   ],
   "source": [
    "df = pd.read_csv(join(baseCsvFilesPath, csvFiles[keyCsv]))\n",
    "df.shape"
   ]
  },
  {
   "cell_type": "code",
   "execution_count": 163,
   "metadata": {},
   "outputs": [
    {
     "data": {
      "text/plain": [
       "array(['Avoiding Diabetes After Pregnancy Trial',\n",
       "       'Treatment of Vitamin D Insufficiency',\n",
       "       'Pharmacokinetics, Safety, and Tolerability of Ertugliflozin (MK-8835/PF-04971729) in Participants With Hepatic Impairment and in Healthy Participants (MK-8835-014)',\n",
       "       'Randomized Clinical Trial of Bococizumab (PF-04950615; RN316) in Subjects With Primary Hyperlipidemia or Mixed Dyslipidemia At Risk Of Cardiovascular Events',\n",
       "       'PED/PEA-15 Protein, PCOS, Obesity, Insulin Sensitivity Indexes, Metformin, Oral Contraceptives'],\n",
       "      dtype=object)"
      ]
     },
     "execution_count": 163,
     "metadata": {},
     "output_type": "execute_result"
    }
   ],
   "source": [
    "df.sample(n=5, random_state=45)['brief_title'].values"
   ]
  },
  {
   "cell_type": "code",
   "execution_count": 164,
   "metadata": {},
   "outputs": [],
   "source": [
    "def applyPageRank(df1):\n",
    "    G1 = nx.Graph()\n",
    "    G2 = nx.Graph()\n",
    "\n",
    "    i = 0\n",
    "    for nct1 in df1.nct_id:\n",
    "        j = 0\n",
    "    #         print(nct1)\n",
    "        try:\n",
    "            iConceptsBriefTitle = set(df1.iloc[i]['brief_title_concepts_list'].split(\";\"))\n",
    "    #             print(iConceptsBriefTitle)\n",
    "        except:\n",
    "            iConceptsBriefTitle = set()\n",
    "        try:\n",
    "            iConceptsBriefSummary = set(df1.iloc[i]['brief_summary_concepts_list'].split(\";\"))\n",
    "        except:\n",
    "            iConceptsBriefSummary = set()\n",
    "        try:\n",
    "            iUnionTitleSummary = iConceptsBriefTitle.union(iConceptsBriefSummary)\n",
    "        except:\n",
    "            iUnionTitleSummary = set()\n",
    "\n",
    "        for nct2 in df1.nct_id:\n",
    "            try:\n",
    "                jConceptsBriefTitle = set(df1.iloc[j]['brief_title_concepts_list'].split(\";\"))\n",
    "            except:\n",
    "                jConceptsBriefTitle = set()\n",
    "\n",
    "            try:\n",
    "                jConceptsBriefSummary = set(df1.iloc[j]['brief_summary_concepts_list'].split(\";\"))\n",
    "            except:\n",
    "                jConceptsBriefSummary = set()\n",
    "\n",
    "            try:\n",
    "                jUnionTitleSummary = jConceptsBriefTitle.union(jConceptsBriefSummary)\n",
    "            except:\n",
    "                jUnionTitleSummary = ()\n",
    "\n",
    "            try:\n",
    "                score1 = len(iConceptsBriefTitle.intersection(jConceptsBriefTitle))/min(len(iConceptsBriefTitle), len(jConceptsBriefTitle))\n",
    "            except:\n",
    "                score1 = 0\n",
    "            try:\n",
    "                score2 = len(iUnionTitleSummary.intersection(jUnionTitleSummary))/min(len(iUnionTitleSummary), len(jUnionTitleSummary))\n",
    "            except:\n",
    "                score2 = 0\n",
    "            #             print(score)\n",
    "    #             print(score1, score2)\n",
    "            G1.add_edge(i, j, weight=score1)\n",
    "            G2.add_edge(i, j, weight=score2)\n",
    "            j += 1\n",
    "        i += 1\n",
    "\n",
    "    print(G1, G2)\n",
    "    pr1 = nx.pagerank_numpy(G1, alpha=0.9)\n",
    "    pr2 = nx.pagerank_numpy(G2, alpha=0.9)\n",
    "\n",
    "    pageRankList1 = []\n",
    "    pageRankList2 = []\n",
    "\n",
    "    for key in pr1.keys():\n",
    "        pageRankScore1 = pr1[key]\n",
    "        pageRankScore2 = pr2[key]\n",
    "\n",
    "        pageRankList1.append(pageRankScore1)\n",
    "        pageRankList2.append(pageRankScore2)\n",
    "\n",
    "    df1['briefTitlePageRankScore'] = pageRankList1\n",
    "    df1['briefTitleAndSummaryCombinedPageRankScore'] = pageRankList2\n",
    "    df1 = df1.sort_values(by=['briefTitleAndSummaryCombinedPageRankScore'], ascending=False)\n",
    "    df1.to_csv(join(output_path, query + \"_page_rank_\" + str(df1.shape[0]) + \".csv\"), index=False)"
   ]
  },
  {
   "cell_type": "code",
   "execution_count": 165,
   "metadata": {},
   "outputs": [],
   "source": [
    "def retreiveTrialsGivenConcepts(conceptOfQuery):\n",
    "    nctIdsRet = []\n",
    "    indexList = []\n",
    "    count = 0\n",
    "    index = 0\n",
    "    for trial_tup in zip(df['brief_title_concepts_list'], df['nct_id']):\n",
    "        concepts = trial_tup[0]\n",
    "        nct = trial_tup[1]\n",
    "        for c_q in conceptOfQuery:\n",
    "            try:\n",
    "                if c_q in concepts:\n",
    "                    mat = 1\n",
    "                else:\n",
    "                    mat = 0\n",
    "                    break\n",
    "            except:\n",
    "                mat = 0\n",
    "                pass\n",
    "\n",
    "        if mat == 1:\n",
    "            nctIdsRet.append(nct)\n",
    "            indexList.append(index)\n",
    "            count += 1\n",
    "        index += 1\n",
    "\n",
    "\n",
    "    df1 = df.iloc[indexList, :]\n",
    "    print(count)\n",
    "    return df1"
   ]
  },
  {
   "cell_type": "code",
   "execution_count": 187,
   "metadata": {},
   "outputs": [
    {
     "name": "stdout",
     "output_type": "stream",
     "text": [
      "Anemia, Iron-Deficiency C0162316 Anemia, Iron-Deficiency\n",
      "\n"
     ]
    },
    {
     "data": {
      "text/plain": [
       "['C0162316']"
      ]
     },
     "execution_count": 187,
     "metadata": {},
     "output_type": "execute_result"
    }
   ],
   "source": [
    "query = \"Treating Anemia, Iron-Deficiency in CKD patients\"\n",
    "# query = \"hypertension\"\n",
    "concepts = matcher.match(query, best_match=True, ignore_syntax=False)\n",
    "# print(concepts)\n",
    "# print(concepts)\n",
    "conceptOfQuery = [elem[0][u'cui'] for elem in concepts]\n",
    "\n",
    "for concept in concepts:\n",
    "    print(concept[0]['ngram'], concept[0]['cui'], concept[0]['term'])\n",
    "    print()\n",
    "conceptOfQuery"
   ]
  },
  {
   "cell_type": "code",
   "execution_count": 188,
   "metadata": {},
   "outputs": [
    {
     "name": "stdout",
     "output_type": "stream",
     "text": [
      "15\n"
     ]
    }
   ],
   "source": [
    "df1 = retreiveTrialsGivenConcepts(conceptOfQuery)"
   ]
  },
  {
   "cell_type": "code",
   "execution_count": 189,
   "metadata": {},
   "outputs": [
    {
     "name": "stdout",
     "output_type": "stream",
     "text": [
      " \n"
     ]
    },
    {
     "name": "stderr",
     "output_type": "stream",
     "text": [
      "/home/mt1/17CS60R70/anaconda3/lib/python3.7/site-packages/ipykernel_launcher.py:68: SettingWithCopyWarning: \n",
      "A value is trying to be set on a copy of a slice from a DataFrame.\n",
      "Try using .loc[row_indexer,col_indexer] = value instead\n",
      "\n",
      "See the caveats in the documentation: http://pandas.pydata.org/pandas-docs/stable/indexing.html#indexing-view-versus-copy\n",
      "/home/mt1/17CS60R70/anaconda3/lib/python3.7/site-packages/ipykernel_launcher.py:69: SettingWithCopyWarning: \n",
      "A value is trying to be set on a copy of a slice from a DataFrame.\n",
      "Try using .loc[row_indexer,col_indexer] = value instead\n",
      "\n",
      "See the caveats in the documentation: http://pandas.pydata.org/pandas-docs/stable/indexing.html#indexing-view-versus-copy\n"
     ]
    }
   ],
   "source": [
    "applyPageRank(df1)"
   ]
  }
 ],
 "metadata": {
  "kernelspec": {
   "display_name": "Python 3",
   "language": "python",
   "name": "python3"
  },
  "language_info": {
   "codemirror_mode": {
    "name": "ipython",
    "version": 3
   },
   "file_extension": ".py",
   "mimetype": "text/x-python",
   "name": "python",
   "nbconvert_exporter": "python",
   "pygments_lexer": "ipython3",
   "version": "3.7.1"
  }
 },
 "nbformat": 4,
 "nbformat_minor": 2
}
