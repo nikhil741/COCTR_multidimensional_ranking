{
 "cells": [
  {
   "cell_type": "code",
   "execution_count": 1,
   "metadata": {},
   "outputs": [],
   "source": [
    "from bs4 import BeautifulSoup\n",
    "import xml.etree.ElementTree as ET"
   ]
  },
  {
   "cell_type": "code",
   "execution_count": 2,
   "metadata": {},
   "outputs": [
    {
     "name": "stdout",
     "output_type": "stream",
     "text": [
      "Disease_Categories  mesh_xml files.gz\t      UseFulIds.pkl\r\n",
      "mesh_xml_files\t    umls_data1_19thApril.csv\r\n"
     ]
    }
   ],
   "source": [
    "!ls ../somy_git/case_based_trial_search/TrialSearch/DomainResources/"
   ]
  },
  {
   "cell_type": "code",
   "execution_count": 3,
   "metadata": {},
   "outputs": [],
   "source": [
    "input_file = \"../data/mesh_xml_files\"\n",
    "tree = ET.parse(input_file)\n",
    "root = tree.getroot()"
   ]
  },
  {
   "cell_type": "code",
   "execution_count": 4,
   "metadata": {},
   "outputs": [
    {
     "data": {
      "text/plain": [
       "28472"
      ]
     },
     "execution_count": 4,
     "metadata": {},
     "output_type": "execute_result"
    }
   ],
   "source": [
    "len(root.findall('DescriptorRecord'))"
   ]
  },
  {
   "cell_type": "code",
   "execution_count": null,
   "metadata": {},
   "outputs": [],
   "source": [
    "meshToDiseaseList = {}\n",
    "for mesh in root.findall('DescriptorRecord'):\n",
    "    diseaseList = []\n",
    "    print(mesh.find('DescriptorName').find('String').text)\n",
    "    meSHTerm = mesh.find('DescriptorName').find('String').text\n",
    "    try:\n",
    "        for tree in mesh.find('TreeNumberList').findall('TreeNumber'):\n",
    "            print(tree.text.split(\".\")[0])\n",
    "            if tree.text.split(\".\")[0][0] == 'C':\n",
    "                print(\"True\", )\n",
    "                diseaseList.append(tree.text.split(\".\")[0][1:])\n",
    "        print(diseaseList)\n",
    "    except:\n",
    "        pass\n",
    "    try:\n",
    "        meshToDiseaseList.update({meSHTerm:diseaseList})\n",
    "    except:\n",
    "        pass"
   ]
  },
  {
   "cell_type": "code",
   "execution_count": null,
   "metadata": {},
   "outputs": [],
   "source": [
    "meshToDiseaseList"
   ]
  },
  {
   "cell_type": "code",
   "execution_count": null,
   "metadata": {},
   "outputs": [],
   "source": [
    "import pickle\n",
    "pickle.dump(meshToDiseaseList, open(\"../data/meshToDiseaseMapping.p\", \"wb\")) "
   ]
  }
 ],
 "metadata": {
  "kernelspec": {
   "display_name": "Python 2",
   "language": "python",
   "name": "python2"
  },
  "language_info": {
   "codemirror_mode": {
    "name": "ipython",
    "version": 2
   },
   "file_extension": ".py",
   "mimetype": "text/x-python",
   "name": "python",
   "nbconvert_exporter": "python",
   "pygments_lexer": "ipython2",
   "version": "2.7.5"
  }
 },
 "nbformat": 4,
 "nbformat_minor": 2
}
