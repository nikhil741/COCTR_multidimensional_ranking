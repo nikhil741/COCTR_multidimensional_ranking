{
 "cells": [
  {
   "cell_type": "code",
   "execution_count": 22,
   "metadata": {},
   "outputs": [],
   "source": [
    "import pandas as pd\n",
    "from os.path import join\n",
    "from os import mkdir\n",
    "from os import listdir\n",
    "from statistics import mean, median"
   ]
  },
  {
   "cell_type": "code",
   "execution_count": 5,
   "metadata": {},
   "outputs": [],
   "source": [
    "input_path = \"../data/1.1_exactWordWithoutIncExcSortedOnTheBasisOfRelevancy\""
   ]
  },
  {
   "cell_type": "code",
   "execution_count": 6,
   "metadata": {},
   "outputs": [
    {
     "data": {
      "text/plain": [
       "['hypertension safe treatments_page_rank.csv',\n",
       " 'constipation safe treatments_page_rank.csv',\n",
       " 'treating people already having hypertension_page_rank.csv',\n",
       " 'safe treatments for asthma_pageRank.csv',\n",
       " 'recommended anti-platelet doses for treating Coronary artery disease_page_rank_103.csv',\n",
       " 'dietary approaches for obesity treatment_page_rank.csv',\n",
       " 'haemorrhage cure_page_rank.csv',\n",
       " 'antiretroviral therapy first time_pageRank.csv',\n",
       " 'Dietary Therapy Epilepsies_page_rank.csv',\n",
       " 'low back pain therapy workout_pageRank.csv',\n",
       " 'Treating Anemia, Iron-Deficiency in CKD patients_page_rank_15.csv',\n",
       " 'postoperative delirium_pageRank.csv',\n",
       " 'out of hospital cardiac arrest_page_rank.csv',\n",
       " 'safe treatment for Alzheimer disease_page_rank.csv',\n",
       " 'managing constipation in children_pageRank.csv',\n",
       " 'Hypercholesterolemia safe treatments_page_rank.csv',\n",
       " 'serious sleep apnea_page_rank.csv',\n",
       " 'serious Rheumatoid arthritis_pageRank.csv',\n",
       " 'Outcomes of cerebrovascular accident_page_rank.csv',\n",
       " 'HIV infection Treatment naive_page_rank.csv',\n",
       " 'malnutrition in young children_page_rank.csv',\n",
       " 'HIV infection seronegativity_page_rank.csv',\n",
       " 'Nonvalvular atrial fibrillation_page_rank.csv',\n",
       " 'Early Parkinson disease treatment_page_rank.csv',\n",
       " 'already having Celiac Disease_page_rank.csv']"
      ]
     },
     "execution_count": 6,
     "metadata": {},
     "output_type": "execute_result"
    }
   ],
   "source": [
    "files = listdir(input_path)\n",
    "files"
   ]
  },
  {
   "cell_type": "code",
   "execution_count": 23,
   "metadata": {},
   "outputs": [
    {
     "name": "stdout",
     "output_type": "stream",
     "text": [
      "6.67\n",
      "0.0\n",
      "19.66\n",
      "0.0\n",
      "25.24\n",
      "8.33\n",
      "0.0\n",
      "48.72\n",
      "0.0\n",
      "0.0\n",
      "26.67\n",
      "6.98\n",
      "30.19\n",
      "0.0\n",
      "8.33\n",
      "0.0\n",
      "1.49\n",
      "20.28\n",
      "6.11\n",
      "16.67\n",
      "31.11\n",
      "2.56\n",
      "2.07\n",
      "3.33\n",
      "5.26\n"
     ]
    }
   ],
   "source": [
    "listOfPercentageOFTrialsInWhichQueryTermPresent = []\n",
    "for file in files:\n",
    "    df = pd.read_csv(join(input_path, file))\n",
    "#     print(df.shape[0])\n",
    "    newList = []\n",
    "    for row in range(df.shape[0]):\n",
    "        newList.append(df['inclusion_pos'][row] + df['inclusion_neg'][row] + df['exclusion_pos'][row] + df['exclusion_neg'][row])\n",
    "    totEntries = df.shape[0]\n",
    "    per = round(((totEntries - newList.count(0))/totEntries)*100, 2)\n",
    "    print(per)\n",
    "    listOfPercentageOFTrialsInWhichQueryTermPresent.append(per)\n",
    "#     print(df.inclusion_pos.values + df.inclusion_neg + df.exclusion_pos + df.exclusion_neg)"
   ]
  },
  {
   "cell_type": "code",
   "execution_count": 25,
   "metadata": {},
   "outputs": [
    {
     "name": "stdout",
     "output_type": "stream",
     "text": [
      "Mean: 10.7868 Median: 6.11\n",
      "Minimum: 0.0 Maximum: 48.72\n"
     ]
    }
   ],
   "source": [
    "print(\"Mean:\", mean(listOfPercentageOFTrialsInWhichQueryTermPresent), \"Median:\", median(listOfPercentageOFTrialsInWhichQueryTermPresent))\n",
    "print(\"Minimum:\", min(listOfPercentageOFTrialsInWhichQueryTermPresent), \"Maximum:\", max(listOfPercentageOFTrialsInWhichQueryTermPresent))"
   ]
  },
  {
   "cell_type": "code",
   "execution_count": null,
   "metadata": {},
   "outputs": [],
   "source": []
  }
 ],
 "metadata": {
  "kernelspec": {
   "display_name": "Python 3",
   "language": "python",
   "name": "python3"
  },
  "language_info": {
   "codemirror_mode": {
    "name": "ipython",
    "version": 3
   },
   "file_extension": ".py",
   "mimetype": "text/x-python",
   "name": "python",
   "nbconvert_exporter": "python",
   "pygments_lexer": "ipython3",
   "version": "3.7.1"
  }
 },
 "nbformat": 4,
 "nbformat_minor": 2
}
