{
 "cells": [
  {
   "cell_type": "code",
   "execution_count": 34,
   "metadata": {},
   "outputs": [],
   "source": [
    "import pandas as pd\n",
    "from os.path import join\n",
    "from os import listdir\n",
    "import math\n",
    "import matplotlib.pyplot as plt\n",
    "from statistics import mean"
   ]
  },
  {
   "cell_type": "code",
   "execution_count": 57,
   "metadata": {},
   "outputs": [],
   "source": [
    "input_path = \"../data/1_pageRank\"\n",
    "# input_path = \"../data/1.1_exactWordWithoutIncExcSortedOnTheBasisOfRelevancy\"\n",
    "# input_path = \"../data/1.2_exact_Inclusion_Exclusion_Final_relevancy_based_sorted\"\n",
    "input_path = \"../data/2.1_synoymsWithoutIncExcRelevancySorted\"\n",
    "# input_path = \"../data/2.2_synset_Inclusion_Exclusion_Final_Relevancy_Based_Sorted\""
   ]
  },
  {
   "cell_type": "code",
   "execution_count": 58,
   "metadata": {},
   "outputs": [],
   "source": [
    "def dcg(rel_list):\n",
    "\trank = 1\n",
    "\tscore = 0\n",
    "\tfor item in rel_list:\n",
    "\t\tscore += (pow(2, item)-1)/(math.log(rank+1, 2))\n",
    "\t\trank += 1\n",
    "\treturn score"
   ]
  },
  {
   "cell_type": "code",
   "execution_count": 59,
   "metadata": {},
   "outputs": [
    {
     "data": {
      "text/plain": [
       "0.5012658353418872"
      ]
     },
     "execution_count": 59,
     "metadata": {},
     "output_type": "execute_result"
    }
   ],
   "source": [
    "dcg([0,0,0,1,1])/dcg([1,1,0,0,0])"
   ]
  },
  {
   "cell_type": "code",
   "execution_count": 60,
   "metadata": {},
   "outputs": [],
   "source": [
    "def cal_precision(relevance):\n",
    "    count = 0\n",
    "    precisionList = []\n",
    "    \n",
    "    #P@5:\n",
    "    if len(relevance) >= 5:\n",
    "        for rel in relevance[:5]:\n",
    "            if rel:\n",
    "                count += 1\n",
    "        precisionList.append(round(count/5, 2))\n",
    "    else:\n",
    "        precisionList.append(\"-\")\n",
    "        \n",
    "    #P@10:\n",
    "    if len(relevance) >= 10:\n",
    "        for rel in relevance[5:10]:\n",
    "            if rel:\n",
    "                count += 1\n",
    "        precisionList.append(round(count/10, 2))\n",
    "    else:\n",
    "        precisionList.append(\"-\")\n",
    "    \n",
    "    #P@15:\n",
    "    if len(relevance) >= 15:\n",
    "        for rel in relevance[10:15]:\n",
    "            if rel:\n",
    "                count += 1\n",
    "        precisionList.append(round(count/15, 2))\n",
    "    else:\n",
    "        precisionList.append(\"-\")\n",
    "    \n",
    "    \n",
    "    #P@20:\n",
    "    if len(relevance) >= 20:\n",
    "        for rel in relevance[15:20]:\n",
    "            if rel:\n",
    "                count += 1\n",
    "        precisionList.append(round(count/20, 2))\n",
    "    else:\n",
    "        precisionList.append(\"-\")\n",
    "        \n",
    "    return precisionList"
   ]
  },
  {
   "cell_type": "code",
   "execution_count": 61,
   "metadata": {},
   "outputs": [],
   "source": [
    "query_files = listdir(input_path)"
   ]
  },
  {
   "cell_type": "code",
   "execution_count": 62,
   "metadata": {},
   "outputs": [
    {
     "name": "stdout",
     "output_type": "stream",
     "text": [
      "Early Parkinson disease treatment_page_rank.csv\n",
      "Retrieved 30\n",
      "\n",
      "serious sleep apnea_page_rank.csv\n",
      "Retrieved 67\n",
      "\n",
      "HIV infection seronegativity_page_rank.csv\n",
      "Retrieved 39\n",
      "\n",
      "recommended anti-platelet doses for treating Coronary artery disease_page_rank_103.csv\n",
      "Retrieved 103\n",
      "\n",
      "Hypercholesterolemia safe treatments_page_rank.csv\n",
      "Retrieved 17\n",
      "\n",
      "managing constipation in children_pageRank.csv\n",
      "Retrieved 72\n",
      "\n",
      "safe treatments for asthma_pageRank.csv\n",
      "Retrieved 57\n",
      "\n",
      "out of hospital cardiac arrest_page_rank.csv\n",
      "Retrieved 53\n",
      "\n",
      "HIV infection Treatment naive_page_rank.csv\n",
      "Retrieved 12\n",
      "\n",
      "postoperative delirium_pageRank.csv\n",
      "Retrieved 43\n",
      "\n",
      "serious Rheumatoid arthritis_pageRank.csv\n",
      "Retrieved 360\n",
      "\n",
      "antiretroviral therapy first time_pageRank.csv\n",
      "Retrieved 39\n",
      "\n",
      "Dietary Therapy Epilepsies_page_rank.csv\n",
      "Retrieved 9\n",
      "\n",
      "Nonvalvular atrial fibrillation_page_rank.csv\n",
      "Retrieved 193\n",
      "\n",
      "treating people already having hypertension_page_rank.csv\n",
      "Retrieved 295\n",
      "\n",
      "already having Celiac Disease_page_rank.csv\n",
      "Retrieved 19\n",
      "\n",
      "Treating Anemia, Iron-Deficiency in CKD patients_page_rank_15.csv\n",
      "Retrieved 15\n",
      "\n",
      "Outcomes of cerebrovascular accident_page_rank.csv\n",
      "Retrieved 311\n",
      "\n",
      "malnutrition in young children_page_rank.csv\n",
      "Retrieved 45\n",
      "\n",
      "haemorrhage cure_page_rank.csv\n",
      "Retrieved 95\n",
      "\n",
      "low back pain therapy workout_pageRank.csv\n",
      "Retrieved 23\n",
      "\n",
      "dietary approaches for obesity treatment_page_rank.csv\n",
      "Retrieved 36\n",
      "\n",
      "constipation safe treatments_page_rank.csv\n",
      "Retrieved 13\n",
      "\n",
      "hypertension safe treatments_page_rank.csv\n",
      "Retrieved 45\n",
      "\n",
      "safe treatment for Alzheimer disease_page_rank.csv\n",
      "Retrieved 16\n",
      "\n"
     ]
    }
   ],
   "source": [
    "P_5 = []\n",
    "P_10 = []\n",
    "P_15 = []\n",
    "P_20 = []\n",
    "\n",
    "for query_file in query_files:\n",
    "    print(query_file)\n",
    "\n",
    "    df1 = pd.read_csv(join(input_path, query_file))\n",
    "    \n",
    "    print(\"Retrieved\", df1.shape[0])\n",
    "    \n",
    "    \n",
    "    relevantListAnnotated1 = df1.relevance.values\n",
    "    \n",
    "    precisionList = cal_precision(relevantListAnnotated1)\n",
    "    \n",
    "    P_5.append(precisionList[0])\n",
    "    P_10.append(precisionList[1])\n",
    "    P_15.append(precisionList[2])\n",
    "    P_20.append(precisionList[3])\n",
    "    \n",
    "    print()"
   ]
  },
  {
   "cell_type": "markdown",
   "metadata": {},
   "source": [
    "### Calculate Mean Values"
   ]
  },
  {
   "cell_type": "code",
   "execution_count": 63,
   "metadata": {},
   "outputs": [],
   "source": [
    "P_5 = list(filter(lambda a: a != '-', P_5))\n",
    "P_10 = list(filter(lambda a: a != '-', P_10))\n",
    "P_15 = list(filter(lambda a: a != '-', P_15))\n",
    "P_20 = list(filter(lambda a: a != '-', P_20))\n"
   ]
  },
  {
   "cell_type": "code",
   "execution_count": 64,
   "metadata": {},
   "outputs": [
    {
     "name": "stdout",
     "output_type": "stream",
     "text": [
      "0.56 0.52 0.47 0.46\n"
     ]
    }
   ],
   "source": [
    "print(round(mean(P_5), 2), round(mean(P_10), 2), round(mean(P_15), 2), round(mean(P_20), 2))"
   ]
  },
  {
   "cell_type": "code",
   "execution_count": null,
   "metadata": {},
   "outputs": [],
   "source": []
  }
 ],
 "metadata": {
  "kernelspec": {
   "display_name": "Python 3",
   "language": "python",
   "name": "python3"
  },
  "language_info": {
   "codemirror_mode": {
    "name": "ipython",
    "version": 3
   },
   "file_extension": ".py",
   "mimetype": "text/x-python",
   "name": "python",
   "nbconvert_exporter": "python",
   "pygments_lexer": "ipython3",
   "version": "3.6.6"
  }
 },
 "nbformat": 4,
 "nbformat_minor": 2
}
